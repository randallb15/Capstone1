{
 "cells": [
  {
   "cell_type": "markdown",
   "metadata": {},
   "source": [
    "# For cleaning each city individually"
   ]
  },
  {
   "cell_type": "code",
   "execution_count": 1,
   "metadata": {},
   "outputs": [],
   "source": [
    "import pandas as pd\n",
    "import gzip\n",
    "import shutil"
   ]
  },
  {
   "cell_type": "code",
   "execution_count": 22,
   "metadata": {},
   "outputs": [],
   "source": [
    "from pathlib import Path\n",
    "cwd = Path('cleaning.py').parents[0]"
   ]
  },
  {
   "cell_type": "code",
   "execution_count": 23,
   "metadata": {},
   "outputs": [
    {
     "data": {
      "text/plain": [
       "PosixPath('.')"
      ]
     },
     "execution_count": 23,
     "metadata": {},
     "output_type": "execute_result"
    }
   ],
   "source": [
    "cwd"
   ]
  },
  {
   "cell_type": "code",
   "execution_count": 26,
   "metadata": {},
   "outputs": [],
   "source": [
    "with gzip.open('{}/listings.csv.gz'.format(cwd), 'rb') as f_in:\n",
    "    with open('{}/listings2.csv'.format(cwd), 'wb') as f_out:\n",
    "        shutil.copyfileobj(f_in, f_out)"
   ]
  },
  {
   "cell_type": "code",
   "execution_count": 25,
   "metadata": {},
   "outputs": [],
   "source": [
    "citylistingsdf = pd.read_csv('listings.csv')"
   ]
  },
  {
   "cell_type": "code",
   "execution_count": 5,
   "metadata": {},
   "outputs": [],
   "source": [
    "citylistingsdf2 = pd.read_csv('listings2.csv')"
   ]
  },
  {
   "cell_type": "code",
   "execution_count": 6,
   "metadata": {},
   "outputs": [],
   "source": [
    "listingsdfcleaned = citylistingsdf[['id','name','host_id','neighbourhood','latitude','longitude','room_type','price','availability_365']]"
   ]
  },
  {
   "cell_type": "code",
   "execution_count": 7,
   "metadata": {},
   "outputs": [],
   "source": [
    "listings2dfcleaned = citylistingsdf2[['id','listing_url','name','neighbourhood_cleansed','latitude','longitude','property_type','room_type','accommodates','availability_30','bathrooms_text','bedrooms','beds']]"
   ]
  },
  {
   "cell_type": "code",
   "execution_count": 8,
   "metadata": {},
   "outputs": [],
   "source": [
    "listings_comb = pd.merge(listingsdfcleaned,listings2dfcleaned,on=['id','name','latitude','longitude','room_type'],how='outer')"
   ]
  },
  {
   "cell_type": "code",
   "execution_count": 9,
   "metadata": {},
   "outputs": [],
   "source": [
    "listings_comb = listings_comb.dropna()"
   ]
  },
  {
   "cell_type": "code",
   "execution_count": 10,
   "metadata": {},
   "outputs": [],
   "source": [
    "listings_comb = listings_comb.drop(['neighbourhood_cleansed'],axis=1)"
   ]
  },
  {
   "cell_type": "code",
   "execution_count": 11,
   "metadata": {},
   "outputs": [],
   "source": [
    "listings_comb['neighbourhood'] = listings_comb['neighbourhood'].astype('category')\n",
    "listings_comb['room_type'] = listings_comb['room_type'].astype('category')\n",
    "listings_comb['property_type'] = listings_comb['property_type'].astype('category')"
   ]
  },
  {
   "cell_type": "code",
   "execution_count": 12,
   "metadata": {},
   "outputs": [],
   "source": [
    "listings_comb['bedrooms'] = listings_comb['bedrooms'].astype('int')\n",
    "listings_comb['beds'] = listings_comb['beds'].astype('int')\n",
    "listings_comb['accommodates'] = listings_comb['accommodates'].astype('int')"
   ]
  },
  {
   "cell_type": "code",
   "execution_count": 13,
   "metadata": {},
   "outputs": [],
   "source": [
    "import re"
   ]
  },
  {
   "cell_type": "code",
   "execution_count": 14,
   "metadata": {},
   "outputs": [],
   "source": [
    "def get_bath(str):\n",
    "    x = re.search('^\\d\\S*\\S*\\S*',str)\n",
    "    if x:\n",
    "        return x.group()"
   ]
  },
  {
   "cell_type": "code",
   "execution_count": 15,
   "metadata": {},
   "outputs": [],
   "source": [
    "listings_comb['bathrooms_text'] = listings_comb['bathrooms_text'].apply(get_bath)"
   ]
  },
  {
   "cell_type": "code",
   "execution_count": 16,
   "metadata": {},
   "outputs": [],
   "source": [
    "listings_comb['bathrooms_text'] = listings_comb['bathrooms_text'].astype('float')"
   ]
  },
  {
   "cell_type": "code",
   "execution_count": 19,
   "metadata": {},
   "outputs": [
    {
     "name": "stdout",
     "output_type": "stream",
     "text": [
      "<class 'pandas.core.frame.DataFrame'>\n",
      "Int64Index: 1939 entries, 0 to 2098\n",
      "Data columns (total 16 columns):\n",
      " #   Column            Non-Null Count  Dtype   \n",
      "---  ------            --------------  -----   \n",
      " 0   id                1939 non-null   int64   \n",
      " 1   name              1939 non-null   object  \n",
      " 2   host_id           1939 non-null   float64 \n",
      " 3   neighbourhood     1939 non-null   category\n",
      " 4   latitude          1939 non-null   float64 \n",
      " 5   longitude         1939 non-null   float64 \n",
      " 6   room_type         1939 non-null   category\n",
      " 7   price             1939 non-null   float64 \n",
      " 8   availability_365  1939 non-null   float64 \n",
      " 9   listing_url       1939 non-null   object  \n",
      " 10  property_type     1939 non-null   category\n",
      " 11  accommodates      1939 non-null   int64   \n",
      " 12  availability_30   1939 non-null   float64 \n",
      " 13  bathrooms_text    1938 non-null   float64 \n",
      " 14  bedrooms          1939 non-null   int64   \n",
      " 15  beds              1939 non-null   int64   \n",
      "dtypes: category(3), float64(7), int64(4), object(2)\n",
      "memory usage: 219.9+ KB\n"
     ]
    }
   ],
   "source": [
    "listings_comb.info()"
   ]
  },
  {
   "cell_type": "code",
   "execution_count": 18,
   "metadata": {},
   "outputs": [],
   "source": [
    "listings_comb.to_csv('city_listings_comb.csv')"
   ]
  },
  {
   "cell_type": "code",
   "execution_count": 20,
   "metadata": {},
   "outputs": [],
   "source": [
    "listings_comb.to_pickle('city_listings_comb.pkl')"
   ]
  }
 ],
 "metadata": {
  "kernelspec": {
   "display_name": "Python 3",
   "language": "python",
   "name": "python3"
  },
  "language_info": {
   "codemirror_mode": {
    "name": "ipython",
    "version": 3
   },
   "file_extension": ".py",
   "mimetype": "text/x-python",
   "name": "python",
   "nbconvert_exporter": "python",
   "pygments_lexer": "ipython3",
   "version": "3.8.6"
  }
 },
 "nbformat": 4,
 "nbformat_minor": 4
}
