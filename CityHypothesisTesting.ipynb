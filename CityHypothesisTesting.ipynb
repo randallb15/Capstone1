{
 "cells": [
  {
   "cell_type": "markdown",
   "metadata": {},
   "source": [
    "# City Hypothesis Testing"
   ]
  },
  {
   "cell_type": "code",
   "execution_count": 1,
   "metadata": {},
   "outputs": [],
   "source": [
    "%run src/imports.py"
   ]
  },
  {
   "cell_type": "code",
   "execution_count": 2,
   "metadata": {},
   "outputs": [],
   "source": [
    "basic_df = pd.read_csv('data/basicinfo.csv')"
   ]
  },
  {
   "cell_type": "code",
   "execution_count": 3,
   "metadata": {},
   "outputs": [],
   "source": [
    "basic_df.set_index('index',inplace=True)"
   ]
  },
  {
   "cell_type": "code",
   "execution_count": 4,
   "metadata": {},
   "outputs": [
    {
     "data": {
      "text/html": [
       "<div>\n",
       "<style scoped>\n",
       "    .dataframe tbody tr th:only-of-type {\n",
       "        vertical-align: middle;\n",
       "    }\n",
       "\n",
       "    .dataframe tbody tr th {\n",
       "        vertical-align: top;\n",
       "    }\n",
       "\n",
       "    .dataframe thead th {\n",
       "        text-align: right;\n",
       "    }\n",
       "</style>\n",
       "<table border=\"1\" class=\"dataframe\">\n",
       "  <thead>\n",
       "    <tr style=\"text-align: right;\">\n",
       "      <th></th>\n",
       "      <th>Austin</th>\n",
       "      <th>Nashville</th>\n",
       "      <th>San Francisco</th>\n",
       "      <th>Boston</th>\n",
       "    </tr>\n",
       "    <tr>\n",
       "      <th>index</th>\n",
       "      <th></th>\n",
       "      <th></th>\n",
       "      <th></th>\n",
       "      <th></th>\n",
       "    </tr>\n",
       "  </thead>\n",
       "  <tbody>\n",
       "    <tr>\n",
       "      <th>ppsf</th>\n",
       "      <td>155.564006</td>\n",
       "      <td>147.460914</td>\n",
       "      <td>9.468968e+02</td>\n",
       "      <td>277.058519</td>\n",
       "    </tr>\n",
       "    <tr>\n",
       "      <th>sale_price</th>\n",
       "      <td>312175.500000</td>\n",
       "      <td>290000.000000</td>\n",
       "      <td>1.381250e+06</td>\n",
       "      <td>484248.700000</td>\n",
       "    </tr>\n",
       "    <tr>\n",
       "      <th>number_of_rentals</th>\n",
       "      <td>3929.000000</td>\n",
       "      <td>3646.000000</td>\n",
       "      <td>2.097000e+03</td>\n",
       "      <td>902.000000</td>\n",
       "    </tr>\n",
       "    <tr>\n",
       "      <th>nightly_price</th>\n",
       "      <td>157.000000</td>\n",
       "      <td>165.000000</td>\n",
       "      <td>2.000000e+02</td>\n",
       "      <td>157.500000</td>\n",
       "    </tr>\n",
       "  </tbody>\n",
       "</table>\n",
       "</div>"
      ],
      "text/plain": [
       "                          Austin      Nashville  San Francisco         Boston\n",
       "index                                                                        \n",
       "ppsf                  155.564006     147.460914   9.468968e+02     277.058519\n",
       "sale_price         312175.500000  290000.000000   1.381250e+06  484248.700000\n",
       "number_of_rentals    3929.000000    3646.000000   2.097000e+03     902.000000\n",
       "nightly_price         157.000000     165.000000   2.000000e+02     157.500000"
      ]
     },
     "execution_count": 4,
     "metadata": {},
     "output_type": "execute_result"
    }
   ],
   "source": [
    "basic_df"
   ]
  },
  {
   "cell_type": "code",
   "execution_count": 5,
   "metadata": {},
   "outputs": [],
   "source": [
    "Austin_df = pd.read_pickle('data/Austin/city_listings_combAustin.pkl')"
   ]
  },
  {
   "cell_type": "code",
   "execution_count": 6,
   "metadata": {},
   "outputs": [],
   "source": [
    "Nashville_df = pd.read_pickle('data/Nashville/city_listings_combNashville.pkl')"
   ]
  },
  {
   "cell_type": "code",
   "execution_count": 7,
   "metadata": {},
   "outputs": [],
   "source": [
    "SF_df = pd.read_pickle('data/San Francisco/city_listings_combSan Francisco.pkl')"
   ]
  },
  {
   "cell_type": "code",
   "execution_count": 8,
   "metadata": {},
   "outputs": [],
   "source": [
    "Boston_df = pd.read_pickle('data/Boston/city_listings_combBoston.pkl')"
   ]
  },
  {
   "cell_type": "markdown",
   "metadata": {},
   "source": [
    "### Adding in Price Per SqFt"
   ]
  },
  {
   "cell_type": "code",
   "execution_count": 9,
   "metadata": {},
   "outputs": [],
   "source": [
    "Austin_df['price_over_med_ppsf'] = Austin_df['price']/basic_df['Austin'][0]"
   ]
  },
  {
   "cell_type": "code",
   "execution_count": 10,
   "metadata": {},
   "outputs": [],
   "source": [
    "Nashville_df['price_over_med_ppsf'] = Nashville_df['price']/basic_df['Nashville'][0]"
   ]
  },
  {
   "cell_type": "code",
   "execution_count": 11,
   "metadata": {},
   "outputs": [],
   "source": [
    "SF_df['price_over_med_ppsf'] = SF_df['price']/basic_df['San Francisco'][0]"
   ]
  },
  {
   "cell_type": "code",
   "execution_count": 12,
   "metadata": {},
   "outputs": [],
   "source": [
    "Boston_df['price_over_med_ppsf'] = Boston_df['price']/basic_df['Boston'][0]"
   ]
  },
  {
   "cell_type": "code",
   "execution_count": 13,
   "metadata": {},
   "outputs": [],
   "source": [
    "def bootstrap_sample_medians(data, n_bootstrap_samples=10000):\n",
    "    bootstrap_sample_medians = []\n",
    "    for i in range(n_bootstrap_samples):\n",
    "        bootstrap_sample = np.random.choice(data, size=len(data), replace=True)\n",
    "        bootstrap_sample_medians.append(np.median(bootstrap_sample))\n",
    "    return np.asarray(bootstrap_sample_medians)"
   ]
  },
  {
   "cell_type": "code",
   "execution_count": 14,
   "metadata": {},
   "outputs": [],
   "source": [
    "Austinmedians = bootstrap_sample_medians(Austin_df['price_over_med_ppsf'])\n",
    "Nashvillemedians = bootstrap_sample_medians(Nashville_df['price_over_med_ppsf'])\n",
    "SFmedians = bootstrap_sample_medians(SF_df['price_over_med_ppsf'])\n",
    "Bostonmedians = bootstrap_sample_medians(Boston_df['price_over_med_ppsf'])"
   ]
  },
  {
   "cell_type": "code",
   "execution_count": 15,
   "metadata": {},
   "outputs": [
    {
     "data": {
      "image/png": "[encoded data removed]",
      "text/plain": [
       "<Figure size 864x864 with 3 Axes>"
      ]
     },
     "metadata": {
      "needs_background": "light"
     },
     "output_type": "display_data"
    }
   ],
   "source": [
    "# Creating a plot\n",
    "fig,ax = plt.subplots(3,1,figsize=(12,12))\n",
    "\n",
    "# Creating normal distributions for sample means and sample mean standard deviations.\n",
    "# So these are the sampling distributions for the sample mean.\n",
    "Austin = stats.norm(Austinmedians.mean(), Austinmedians.std())\n",
    "Nashville = stats.norm(Nashvillemedians.mean(), Nashvillemedians.std())\n",
    "\n",
    "# Creating a new array to use for x-axis. \n",
    "support = np.linspace(0.1, 1.2, 100)\n",
    "\n",
    "# call the probability density functions for each of the points on the x axis. \n",
    "Austin_pdf = Austin.pdf(support)\n",
    "Nashville_pdf = Nashville.pdf(support)\n",
    "\n",
    "# Plot the density functions we just created and filling with color to show overlap.\n",
    "# alpha here is transparency.\n",
    "ax[0].plot(support, Austin_pdf, color='blue', label='Austin')\n",
    "ax[0].fill(support, Austin_pdf, color='blue', alpha=0.5)\n",
    "ax[0].plot(support, Nashville_pdf, color='red', label='Nashville')\n",
    "ax[0].fill(support, Nashville_pdf, color='red', alpha=0.5)\n",
    "\n",
    "# Legend - shows comparison between 1 bedroom and 3 bedroom.\n",
    "# It draws from the 'label' argument in the plotting function.\n",
    "# Also add a plot title.\n",
    "ax[0].legend()\n",
    "ax[0].set_title(\"Distribution of Sample Medians for Airbnb Nightly Price Over Sale Price Per SqFt\")\n",
    "\n",
    "\n",
    "\n",
    "\n",
    "\n",
    "\n",
    "#Austin = stats.norm(Austinmedians.mean(), Austinmedians.std())\n",
    "SF = stats.norm(SFmedians.mean(), SFmedians.std())\n",
    "\n",
    "# Creating a new array to use for x-axis. \n",
    "support = np.linspace(0.1, 1.2, 100)\n",
    "\n",
    "# call the probability density functions for each of the points on the x axis. \n",
    "#Austin_pdf = Austin.pdf(support)\n",
    "SF_pdf = SF.pdf(support)\n",
    "\n",
    "# Plot the density functions we just created and filling with color to show overlap.\n",
    "# alpha here is transparency.\n",
    "ax[1].plot(support, Austin_pdf, color='blue', label='Austin')\n",
    "ax[1].fill(support, Austin_pdf, color='blue', alpha=0.5)\n",
    "ax[1].plot(support, SF_pdf, color='red', label='San Francisco')\n",
    "ax[1].fill(support, SF_pdf, color='red', alpha=0.5)\n",
    "\n",
    "# Legend - shows comparison between 1 bedroom and 3 bedroom.\n",
    "# It draws from the 'label' argument in the plotting function.\n",
    "# Also add a plot title.\n",
    "ax[1].legend()\n",
    "ax[1].set_title(\"Distribution of Sample Medians for Airbnb Nightly Price Over Sale Price Per SqFt\")\n",
    "\n",
    "\n",
    "\n",
    "\n",
    "#Austin = stats.norm(Austinmedians.mean(), Austinmedians.std())\n",
    "Boston = stats.norm(Bostonmedians.mean(), Bostonmedians.std())\n",
    "\n",
    "# Creating a new array to use for x-axis. \n",
    "support = np.linspace(0.1, 1.2, 100)\n",
    "\n",
    "# call the probability density functions for each of the points on the x axis. \n",
    "#Austin_pdf = Austin.pdf(support)\n",
    "Boston_pdf = Boston.pdf(support)\n",
    "\n",
    "# Plot the density functions we just created and filling with color to show overlap.\n",
    "# alpha here is transparency.\n",
    "ax[2].plot(support, Austin_pdf, color='blue', label='Austin')\n",
    "ax[2].fill(support, Austin_pdf, color='blue', alpha=0.5)\n",
    "ax[2].plot(support, Boston_pdf, color='red', label='Boston')\n",
    "ax[2].fill(support, Boston_pdf, color='red', alpha=0.5)\n",
    "\n",
    "# Legend - shows comparison between 1 bedroom and 3 bedroom.\n",
    "# It draws from the 'label' argument in the plotting function.\n",
    "# Also add a plot title.\n",
    "ax[2].legend()\n",
    "ax[2].set_title(\"Distribution of Sample Medians for Airbnb Nightly Price Over Sale Price Per SqFt\");"
   ]
  },
  {
   "cell_type": "markdown",
   "metadata": {},
   "source": [
    "## T-tests"
   ]
  },
  {
   "cell_type": "code",
   "execution_count": null,
   "metadata": {},
   "outputs": [],
   "source": []
  },
  {
   "cell_type": "markdown",
   "metadata": {},
   "source": [
    "____"
   ]
  },
  {
   "cell_type": "markdown",
   "metadata": {},
   "source": [
    "----"
   ]
  },
  {
   "cell_type": "markdown",
   "metadata": {},
   "source": [
    "# EXTRA CODE"
   ]
  },
  {
   "cell_type": "code",
   "execution_count": 39,
   "metadata": {},
   "outputs": [],
   "source": [
    "# # Creating a plot\n",
    "# fig,ax = plt.subplots(figsize=(12,4))\n",
    "\n",
    "# Creating normal distributions for sample means and sample mean standard deviations.\n",
    "# So these are the sampling distributions for the sample mean.\n",
    "Austin = stats.norm(Austinmedians.mean(), Austinmedians.std())\n",
    "SF = stats.norm(SFmedians.mean(), SFmedians.std())\n",
    "\n",
    "# Creating a new array to use for x-axis. \n",
    "support = np.linspace(0.1, 1.2, 100)\n",
    "\n",
    "# call the probability density functions for each of the points on the x axis. \n",
    "Austin_pdf = Austin.pdf(support)\n",
    "SF_pdf = SF.pdf(support)\n",
    "\n",
    "# Plot the density functions we just created and filling with color to show overlap.\n",
    "# alpha here is transparency.\n",
    "ax[1].plot(support, Austin_pdf, color='blue', label='Austin')\n",
    "ax[1].fill(support, Austin_pdf, color='blue', alpha=0.5)\n",
    "ax[1].plot(support, SF_pdf, color='red', label='San Francisco')\n",
    "ax[1].fill(support, SF_pdf, color='red', alpha=0.5)\n",
    "\n",
    "# Legend - shows comparison between 1 bedroom and 3 bedroom.\n",
    "# It draws from the 'label' argument in the plotting function.\n",
    "# Also add a plot title.\n",
    "ax[1].legend()\n",
    "ax[1].set_title(\"Distribution of Sample Medians for Airbnb Nightly Price Over Sale Price Per SqFt\");"
   ]
  },
  {
   "cell_type": "code",
   "execution_count": 37,
   "metadata": {},
   "outputs": [
    {
     "data": {
      "image/png": "[encoded data removed]",
      "text/plain": [
       "<Figure size 864x288 with 1 Axes>"
      ]
     },
     "metadata": {
      "needs_background": "light"
     },
     "output_type": "display_data"
    }
   ],
   "source": [
    "# Creating a plot\n",
    "fig,ax = plt.subplots(figsize=(12,4))\n",
    "\n",
    "# Creating normal distributions for sample means and sample mean standard deviations.\n",
    "# So these are the sampling distributions for the sample mean.\n",
    "Austin = stats.norm(Austinmedians.mean(), Austinmedians.std())\n",
    "Boston = stats.norm(Bostonmedians.mean(), Bostonmedians.std())\n",
    "\n",
    "# Creating a new array to use for x-axis. \n",
    "support = np.linspace(0.1, 1.2, 100)\n",
    "\n",
    "# call the probability density functions for each of the points on the x axis. \n",
    "Austin_pdf = Austin.pdf(support)\n",
    "Boston_pdf = Boston.pdf(support)\n",
    "\n",
    "# Plot the density functions we just created and filling with color to show overlap.\n",
    "# alpha here is transparency.\n",
    "ax.plot(support, Austin_pdf, color='blue', label='Austin')\n",
    "ax.fill(support, Austin_pdf, color='blue', alpha=0.5)\n",
    "ax.plot(support, Boston_pdf, color='red', label='Boston')\n",
    "ax.fill(support, Boston_pdf, color='red', alpha=0.5)\n",
    "\n",
    "# Legend - shows comparison between 1 bedroom and 3 bedroom.\n",
    "# It draws from the 'label' argument in the plotting function.\n",
    "# Also add a plot title.\n",
    "ax.legend()\n",
    "ax.set_title(\"Distribution of Sample Medians for Airbnb Nightly Price Over Sale Price Per SqFt\");"
   ]
  }
 ],
 "metadata": {
  "kernelspec": {
   "display_name": "Python 3",
   "language": "python",
   "name": "python3"
  },
  "language_info": {
   "codemirror_mode": {
    "name": "ipython",
    "version": 3
   },
   "file_extension": ".py",
   "mimetype": "text/x-python",
   "name": "python",
   "nbconvert_exporter": "python",
   "pygments_lexer": "ipython3",
   "version": "3.8.6"
  }
 },
 "nbformat": 4,
 "nbformat_minor": 4
}
