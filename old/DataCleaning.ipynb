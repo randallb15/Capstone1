{
 "cells": [
  {
   "cell_type": "markdown",
   "metadata": {},
   "source": [
    "# Cleaning the Data"
   ]
  },
  {
   "cell_type": "markdown",
   "metadata": {},
   "source": [
    "#### Load in packages"
   ]
  },
  {
   "cell_type": "code",
   "execution_count": 1,
   "metadata": {},
   "outputs": [],
   "source": [
    "%run src/imports.py"
   ]
  },
  {
   "cell_type": "markdown",
   "metadata": {},
   "source": [
    "#### Load in csvs"
   ]
  },
  {
   "cell_type": "code",
   "execution_count": 31,
   "metadata": {},
   "outputs": [],
   "source": [
    "%run src/loadindata.py"
   ]
  },
  {
   "cell_type": "markdown",
   "metadata": {},
   "source": [
    "**DATAFRAMES**\n",
    "\n",
    "REdf, listingsdf, cal_df, listingsdf2"
   ]
  },
  {
   "cell_type": "markdown",
   "metadata": {},
   "source": [
    "REdf\n",
    "- shows a bunch of information about the housing market\n",
    "- useful columns - median sale price, region, region_id, median pending sqft, region_name, region_type"
   ]
  },
  {
   "cell_type": "markdown",
   "metadata": {},
   "source": [
    "listingsdf\n",
    "- useful columns - name, neighborhood, latitude, longitude, price, availability, room type"
   ]
  },
  {
   "cell_type": "markdown",
   "metadata": {},
   "source": [
    "listings2df\n",
    "\n",
    "- can use to get urls, bedrooms, bathrooms, neighbourhood, lat, long, review_scores_rating"
   ]
  },
  {
   "cell_type": "markdown",
   "metadata": {},
   "source": [
    "caldf\n",
    "- maybe use listingID and dates to get average prices\n",
    "- might not use this"
   ]
  },
  {
   "cell_type": "code",
   "execution_count": 33,
   "metadata": {},
   "outputs": [],
   "source": [
    "REcleaned = REdf[['region_id','region_type_id','region_name','region_type','median_sale_price','median_sale_ppsf','median_pending_sqft']]"
   ]
  },
  {
   "cell_type": "code",
   "execution_count": 34,
   "metadata": {},
   "outputs": [],
   "source": [
    "REcleaned = REcleaned.dropna()"
   ]
  },
  {
   "cell_type": "code",
   "execution_count": 35,
   "metadata": {},
   "outputs": [
    {
     "name": "stdout",
     "output_type": "stream",
     "text": [
      "<class 'pandas.core.frame.DataFrame'>\n",
      "Int64Index: 836430 entries, 0 to 957588\n",
      "Data columns (total 7 columns):\n",
      " #   Column               Non-Null Count   Dtype  \n",
      "---  ------               --------------   -----  \n",
      " 0   region_id            836430 non-null  int64  \n",
      " 1   region_type_id       836430 non-null  int64  \n",
      " 2   region_name          836430 non-null  object \n",
      " 3   region_type          836430 non-null  object \n",
      " 4   median_sale_price    836430 non-null  float64\n",
      " 5   median_sale_ppsf     836430 non-null  float64\n",
      " 6   median_pending_sqft  836430 non-null  float64\n",
      "dtypes: float64(3), int64(2), object(2)\n",
      "memory usage: 51.1+ MB\n"
     ]
    }
   ],
   "source": [
    "REcleaned.info()"
   ]
  },
  {
   "cell_type": "code",
   "execution_count": 36,
   "metadata": {},
   "outputs": [],
   "source": [
    "REcleaned.to_csv('data/REcleaned.csv')"
   ]
  },
  {
   "cell_type": "code",
   "execution_count": 37,
   "metadata": {},
   "outputs": [],
   "source": [
    "listingsdfcleaned = listingsdf[['id','name','host_id','neighbourhood','latitude','longitude','room_type','price','availability_365']]"
   ]
  },
  {
   "cell_type": "code",
   "execution_count": 38,
   "metadata": {},
   "outputs": [
    {
     "data": {
      "text/html": [
       "<div>\n",
       "<style scoped>\n",
       "    .dataframe tbody tr th:only-of-type {\n",
       "        vertical-align: middle;\n",
       "    }\n",
       "\n",
       "    .dataframe tbody tr th {\n",
       "        vertical-align: top;\n",
       "    }\n",
       "\n",
       "    .dataframe thead th {\n",
       "        text-align: right;\n",
       "    }\n",
       "</style>\n",
       "<table border=\"1\" class=\"dataframe\">\n",
       "  <thead>\n",
       "    <tr style=\"text-align: right;\">\n",
       "      <th></th>\n",
       "      <th>id</th>\n",
       "      <th>name</th>\n",
       "      <th>host_id</th>\n",
       "      <th>neighbourhood</th>\n",
       "      <th>latitude</th>\n",
       "      <th>longitude</th>\n",
       "      <th>room_type</th>\n",
       "      <th>price</th>\n",
       "      <th>availability_365</th>\n",
       "    </tr>\n",
       "  </thead>\n",
       "  <tbody>\n",
       "    <tr>\n",
       "      <th>7920</th>\n",
       "      <td>39373173</td>\n",
       "      <td>Landing | Apartment Near All South Lamar Fun</td>\n",
       "      <td>263502162</td>\n",
       "      <td>78704</td>\n",
       "      <td>30.24394</td>\n",
       "      <td>-97.78165</td>\n",
       "      <td>Entire home/apt</td>\n",
       "      <td>125</td>\n",
       "      <td>0</td>\n",
       "    </tr>\n",
       "  </tbody>\n",
       "</table>\n",
       "</div>"
      ],
      "text/plain": [
       "            id                                          name    host_id  \\\n",
       "7920  39373173  Landing | Apartment Near All South Lamar Fun  263502162   \n",
       "\n",
       "      neighbourhood  latitude  longitude        room_type  price  \\\n",
       "7920          78704  30.24394  -97.78165  Entire home/apt    125   \n",
       "\n",
       "      availability_365  \n",
       "7920                 0  "
      ]
     },
     "execution_count": 38,
     "metadata": {},
     "output_type": "execute_result"
    }
   ],
   "source": [
    "listingsdfcleaned[listingsdfcleaned.index == 7920]"
   ]
  },
  {
   "cell_type": "code",
   "execution_count": 39,
   "metadata": {},
   "outputs": [],
   "source": [
    "listings2dfcleaned = listingsdf2[['id','listing_url','name','neighbourhood_cleansed','latitude','longitude','property_type','room_type','accommodates','availability_30','bathrooms_text','bedrooms','beds']]"
   ]
  },
  {
   "cell_type": "code",
   "execution_count": 40,
   "metadata": {},
   "outputs": [
    {
     "data": {
      "text/html": [
       "<div>\n",
       "<style scoped>\n",
       "    .dataframe tbody tr th:only-of-type {\n",
       "        vertical-align: middle;\n",
       "    }\n",
       "\n",
       "    .dataframe tbody tr th {\n",
       "        vertical-align: top;\n",
       "    }\n",
       "\n",
       "    .dataframe thead th {\n",
       "        text-align: right;\n",
       "    }\n",
       "</style>\n",
       "<table border=\"1\" class=\"dataframe\">\n",
       "  <thead>\n",
       "    <tr style=\"text-align: right;\">\n",
       "      <th></th>\n",
       "      <th>id</th>\n",
       "      <th>listing_url</th>\n",
       "      <th>name</th>\n",
       "      <th>neighbourhood_cleansed</th>\n",
       "      <th>latitude</th>\n",
       "      <th>longitude</th>\n",
       "      <th>property_type</th>\n",
       "      <th>room_type</th>\n",
       "      <th>accommodates</th>\n",
       "      <th>availability_30</th>\n",
       "      <th>bathrooms_text</th>\n",
       "      <th>bedrooms</th>\n",
       "      <th>beds</th>\n",
       "    </tr>\n",
       "  </thead>\n",
       "  <tbody>\n",
       "    <tr>\n",
       "      <th>6967</th>\n",
       "      <td>35140570</td>\n",
       "      <td>https://www.airbnb.com/rooms/35140570</td>\n",
       "      <td>Moving to Austin? 3bd/2bth minutes to DT + UT</td>\n",
       "      <td>78722</td>\n",
       "      <td>30.28643</td>\n",
       "      <td>-97.70740</td>\n",
       "      <td>Entire house</td>\n",
       "      <td>Entire home/apt</td>\n",
       "      <td>8</td>\n",
       "      <td>0</td>\n",
       "      <td>2 baths</td>\n",
       "      <td>3.0</td>\n",
       "      <td>4.0</td>\n",
       "    </tr>\n",
       "    <tr>\n",
       "      <th>5762</th>\n",
       "      <td>28607716</td>\n",
       "      <td>https://www.airbnb.com/rooms/28607716</td>\n",
       "      <td>East Austin Gem, Best Location</td>\n",
       "      <td>78702</td>\n",
       "      <td>30.26132</td>\n",
       "      <td>-97.73204</td>\n",
       "      <td>Entire house</td>\n",
       "      <td>Entire home/apt</td>\n",
       "      <td>14</td>\n",
       "      <td>30</td>\n",
       "      <td>2 baths</td>\n",
       "      <td>3.0</td>\n",
       "      <td>10.0</td>\n",
       "    </tr>\n",
       "  </tbody>\n",
       "</table>\n",
       "</div>"
      ],
      "text/plain": [
       "            id                            listing_url  \\\n",
       "6967  35140570  https://www.airbnb.com/rooms/35140570   \n",
       "5762  28607716  https://www.airbnb.com/rooms/28607716   \n",
       "\n",
       "                                               name  neighbourhood_cleansed  \\\n",
       "6967  Moving to Austin? 3bd/2bth minutes to DT + UT                   78722   \n",
       "5762                 East Austin Gem, Best Location                   78702   \n",
       "\n",
       "      latitude  longitude property_type        room_type  accommodates  \\\n",
       "6967  30.28643  -97.70740  Entire house  Entire home/apt             8   \n",
       "5762  30.26132  -97.73204  Entire house  Entire home/apt            14   \n",
       "\n",
       "      availability_30 bathrooms_text  bedrooms  beds  \n",
       "6967                0        2 baths       3.0   4.0  \n",
       "5762               30        2 baths       3.0  10.0  "
      ]
     },
     "execution_count": 40,
     "metadata": {},
     "output_type": "execute_result"
    }
   ],
   "source": [
    "listings2dfcleaned.sample(2)"
   ]
  },
  {
   "cell_type": "code",
   "execution_count": 41,
   "metadata": {},
   "outputs": [],
   "source": [
    "listings_comb = pd.merge(listingsdfcleaned,listings2dfcleaned,on=['id','name','latitude','longitude','room_type'],how='outer')"
   ]
  },
  {
   "cell_type": "markdown",
   "metadata": {},
   "source": [
    "#### Change data types:\n",
    "- neighbourhood - categorical\n",
    "- neighbourhood_cleansed - (should match with neighbourhood - delete?) - categorical\n",
    "- room_type - categorical\n",
    "- property_type - categorical\n",
    "- bathrooms_text - change to bathrooms int\n",
    "- bedrooms - int\n",
    "- beds - int"
   ]
  },
  {
   "cell_type": "code",
   "execution_count": 42,
   "metadata": {},
   "outputs": [],
   "source": [
    "listings_comb = listings_comb.dropna()"
   ]
  },
  {
   "cell_type": "code",
   "execution_count": 43,
   "metadata": {},
   "outputs": [],
   "source": [
    "listings_comb = listings_comb.drop(['neighbourhood_cleansed'],axis=1)"
   ]
  },
  {
   "cell_type": "code",
   "execution_count": 44,
   "metadata": {},
   "outputs": [],
   "source": [
    "listings_comb['neighbourhood'] = listings_comb['neighbourhood'].astype('category')\n",
    "listings_comb['room_type'] = listings_comb['room_type'].astype('category')\n",
    "listings_comb['property_type'] = listings_comb['property_type'].astype('category')"
   ]
  },
  {
   "cell_type": "code",
   "execution_count": 45,
   "metadata": {},
   "outputs": [],
   "source": [
    "listings_comb['bedrooms'] = listings_comb['bedrooms'].astype('int')\n",
    "listings_comb['beds'] = listings_comb['beds'].astype('int')\n",
    "listings_comb['accommodates'] = listings_comb['accommodates'].astype('int')"
   ]
  },
  {
   "cell_type": "code",
   "execution_count": 46,
   "metadata": {},
   "outputs": [
    {
     "data": {
      "text/plain": [
       "4037           4 baths\n",
       "5756         2.5 baths\n",
       "5312           2 baths\n",
       "1985            1 bath\n",
       "8806           3 baths\n",
       "6759    1 private bath\n",
       "6772           5 baths\n",
       "5032           3 baths\n",
       "5392           2 baths\n",
       "21              1 bath\n",
       "4318         2.5 baths\n",
       "36              1 bath\n",
       "8105           3 baths\n",
       "3816         2.5 baths\n",
       "7729            1 bath\n",
       "9691            1 bath\n",
       "4696           2 baths\n",
       "4620            1 bath\n",
       "3374           2 baths\n",
       "5586            1 bath\n",
       "Name: bathrooms_text, dtype: object"
      ]
     },
     "execution_count": 46,
     "metadata": {},
     "output_type": "execute_result"
    }
   ],
   "source": [
    "listings_comb['bathrooms_text'].sample(20)"
   ]
  },
  {
   "cell_type": "code",
   "execution_count": 47,
   "metadata": {},
   "outputs": [],
   "source": [
    "listings_comb['bathrooms_text'].replace(r'/d./d*.*', r'/d./d*', regex=True, inplace=True)"
   ]
  },
  {
   "cell_type": "code",
   "execution_count": 48,
   "metadata": {},
   "outputs": [],
   "source": [
    "import re"
   ]
  },
  {
   "cell_type": "code",
   "execution_count": 49,
   "metadata": {},
   "outputs": [],
   "source": [
    "def get_bath(str):\n",
    "    x = re.search('^\\d\\S*\\S*\\S*',str)\n",
    "    #y=x[0]\n",
    "    #print(type(y))\n",
    "    if x:\n",
    "        return x.group()"
   ]
  },
  {
   "cell_type": "code",
   "execution_count": 50,
   "metadata": {},
   "outputs": [
    {
     "name": "stdout",
     "output_type": "stream",
     "text": [
      "2.5\n"
     ]
    }
   ],
   "source": [
    "print(get_bath('2.5 private bath'))"
   ]
  },
  {
   "cell_type": "code",
   "execution_count": 51,
   "metadata": {},
   "outputs": [],
   "source": [
    "listings_comb['bathrooms_text'] = listings_comb['bathrooms_text'].apply(get_bath)"
   ]
  },
  {
   "cell_type": "code",
   "execution_count": 52,
   "metadata": {},
   "outputs": [],
   "source": [
    "listings_comb['bathrooms_text'] = listings_comb['bathrooms_text'].astype('float')"
   ]
  },
  {
   "cell_type": "code",
   "execution_count": 53,
   "metadata": {},
   "outputs": [
    {
     "data": {
      "text/plain": [
       "<AxesSubplot:>"
      ]
     },
     "execution_count": 53,
     "metadata": {},
     "output_type": "execute_result"
    },
    {
     "data": {
      "image/png": "[encoded data removed]",
      "text/plain": [
       "<Figure size 432x288 with 1 Axes>"
      ]
     },
     "metadata": {
      "needs_background": "light"
     },
     "output_type": "display_data"
    }
   ],
   "source": [
    "listings_comb['bathrooms_text'].hist()"
   ]
  },
  {
   "cell_type": "code",
   "execution_count": 54,
   "metadata": {},
   "outputs": [
    {
     "data": {
      "text/plain": [
       "<AxesSubplot:>"
      ]
     },
     "execution_count": 54,
     "metadata": {},
     "output_type": "execute_result"
    },
    {
     "data": {
      "image/png": "[encoded data removed]",
      "text/plain": [
       "<Figure size 432x288 with 1 Axes>"
      ]
     },
     "metadata": {
      "needs_background": "light"
     },
     "output_type": "display_data"
    }
   ],
   "source": [
    "listings_comb['neighbourhood'].hist()"
   ]
  },
  {
   "cell_type": "code",
   "execution_count": 55,
   "metadata": {},
   "outputs": [
    {
     "name": "stdout",
     "output_type": "stream",
     "text": [
      "<class 'pandas.core.frame.DataFrame'>\n",
      "Int64Index: 9574 entries, 0 to 10304\n",
      "Data columns (total 16 columns):\n",
      " #   Column            Non-Null Count  Dtype   \n",
      "---  ------            --------------  -----   \n",
      " 0   id                9574 non-null   int64   \n",
      " 1   name              9574 non-null   object  \n",
      " 2   host_id           9574 non-null   float64 \n",
      " 3   neighbourhood     9574 non-null   category\n",
      " 4   latitude          9574 non-null   float64 \n",
      " 5   longitude         9574 non-null   float64 \n",
      " 6   room_type         9574 non-null   category\n",
      " 7   price             9574 non-null   float64 \n",
      " 8   availability_365  9574 non-null   float64 \n",
      " 9   listing_url       9574 non-null   object  \n",
      " 10  property_type     9574 non-null   category\n",
      " 11  accommodates      9574 non-null   int64   \n",
      " 12  availability_30   9574 non-null   float64 \n",
      " 13  bathrooms_text    9564 non-null   float64 \n",
      " 14  bedrooms          9574 non-null   int64   \n",
      " 15  beds              9574 non-null   int64   \n",
      "dtypes: category(3), float64(7), int64(4), object(2)\n",
      "memory usage: 1.1+ MB\n"
     ]
    }
   ],
   "source": [
    "listings_comb.info()"
   ]
  },
  {
   "cell_type": "code",
   "execution_count": 56,
   "metadata": {},
   "outputs": [],
   "source": [
    "listings_comb.to_csv('data/AUSlistingscomb.csv')"
   ]
  },
  {
   "cell_type": "code",
   "execution_count": 57,
   "metadata": {},
   "outputs": [
    {
     "data": {
      "text/plain": [
       "array([[<AxesSubplot:title={'center':'id'}>,\n",
       "        <AxesSubplot:title={'center':'host_id'}>,\n",
       "        <AxesSubplot:title={'center':'latitude'}>],\n",
       "       [<AxesSubplot:title={'center':'longitude'}>,\n",
       "        <AxesSubplot:title={'center':'price'}>,\n",
       "        <AxesSubplot:title={'center':'availability_365'}>],\n",
       "       [<AxesSubplot:title={'center':'accommodates'}>,\n",
       "        <AxesSubplot:title={'center':'availability_30'}>,\n",
       "        <AxesSubplot:title={'center':'bathrooms_text'}>],\n",
       "       [<AxesSubplot:title={'center':'bedrooms'}>,\n",
       "        <AxesSubplot:title={'center':'beds'}>, <AxesSubplot:>]],\n",
       "      dtype=object)"
      ]
     },
     "execution_count": 57,
     "metadata": {},
     "output_type": "execute_result"
    },
    {
     "data": {
      "image/png": "[encoded data removed]",
      "text/plain": [
       "<Figure size 432x288 with 12 Axes>"
      ]
     },
     "metadata": {
      "needs_background": "light"
     },
     "output_type": "display_data"
    }
   ],
   "source": [
    "listings_comb.hist()"
   ]
  }
 ],
 "metadata": {
  "kernelspec": {
   "display_name": "Python 3",
   "language": "python",
   "name": "python3"
  },
  "language_info": {
   "codemirror_mode": {
    "name": "ipython",
    "version": 3
   },
   "file_extension": ".py",
   "mimetype": "text/x-python",
   "name": "python",
   "nbconvert_exporter": "python",
   "pygments_lexer": "ipython3",
   "version": "3.8.6"
  }
 },
 "nbformat": 4,
 "nbformat_minor": 4
}
