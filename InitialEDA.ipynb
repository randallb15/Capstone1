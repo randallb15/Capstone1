{
 "cells": [
  {
   "cell_type": "markdown",
   "metadata": {},
   "source": [
    "# Real Estate Investing Analysis"
   ]
  },
  {
   "cell_type": "markdown",
   "metadata": {},
   "source": [
    "To Do's at some point:\n",
    "- update Docker image with Selenium\n",
    "- find Google Chrome path location (or firefox path location) to use Selenium"
   ]
  },
  {
   "cell_type": "markdown",
   "metadata": {},
   "source": [
    "### Explore:"
   ]
  },
  {
   "cell_type": "markdown",
   "metadata": {},
   "source": [
    "- best markets for Airbnb\n",
    "    - this would be median income over median sale price or avg income over avg sale price\n",
    "- Austin specifically\n",
    "    - 3/2 better than 2/1?\n",
    "    - certain areas better than others?"
   ]
  },
  {
   "cell_type": "markdown",
   "metadata": {},
   "source": [
    "Steps:\n",
    "1. Importing\n",
    "2. Cleaning\n",
    "3. EDA\n",
    "4. Visualizations\n",
    "5. Conclusions"
   ]
  },
  {
   "cell_type": "markdown",
   "metadata": {},
   "source": [
    "----"
   ]
  },
  {
   "cell_type": "markdown",
   "metadata": {},
   "source": [
    "**TOOLS I WANT TO USE:**\n",
    "- APIs\n",
    "- Spark\n",
    "- Docker\n",
    "- Matplotlib\n",
    "- AWS\n",
    "- Frequentist and Bayesian Hypothesis Testing\n",
    "- Pandas\n",
    "- SQL\n",
    "- GitHub and different branches and merging (nbstripout)\n",
    "\n",
    "**STRETCHES:**\n",
    "- maximum likelihood estimation to find a distribution\n",
    "- Central Limit Theorem and bootstrapping to estimate means \n",
    "- Cloropleth map\n",
    "\n",
    "**WHO IS YOUR AUDIENCE?**\n",
    "COME UP WITH A PERSONA - WHAT DO THEY WANT TO KNOW AND WHY?\n",
    "WHAT'S THE POINT OF THIS?\n",
    "\n",
    "**NOTES:**\n",
    "- readme file as you go\n",
    "- interesting data that can keep you busy\n",
    "- helper functions from the start\n",
    "\n",
    "TECHNICAL SKILLS:\n",
    "-EDA\n",
    "- Visualization\n",
    "- Hypothesis Testing\n",
    "- Web Scraping/APIS\n",
    "\n",
    "PRESENTATION SKILLS:\n",
    "- Communicating technical findings\n",
    "- Creating effective presentation"
   ]
  },
  {
   "cell_type": "markdown",
   "metadata": {},
   "source": [
    "----"
   ]
  },
  {
   "cell_type": "markdown",
   "metadata": {},
   "source": [
    "## Importing"
   ]
  },
  {
   "cell_type": "code",
   "execution_count": 2,
   "metadata": {},
   "outputs": [],
   "source": [
    "%run src/imports.py"
   ]
  },
  {
   "cell_type": "markdown",
   "metadata": {},
   "source": [
    "#### About the data"
   ]
  },
  {
   "cell_type": "markdown",
   "metadata": {},
   "source": [
    "weekly_housing_market_data_most_recent.tsv \n",
    "- shows a bunch of information about the housing market\n",
    "- useful columns - median sale price, region, region_id, median pending sqft, region name, region type"
   ]
  },
  {
   "cell_type": "markdown",
   "metadata": {},
   "source": [
    "listings.csv\n",
    "- useful columns - name, neighborhood, latitude, longitude, price, availability, room type"
   ]
  },
  {
   "cell_type": "markdown",
   "metadata": {},
   "source": [
    "**listings2.csv**\n",
    "\n",
    "**- can use this to scrape guests, bedrooms, beds, baths data**\n",
    "- the only thing I would want from here is ID and listing_url"
   ]
  },
  {
   "cell_type": "markdown",
   "metadata": {},
   "source": [
    "reviews.csv\n",
    "- worthless"
   ]
  },
  {
   "cell_type": "markdown",
   "metadata": {},
   "source": [
    "calendar.csv\n",
    "- probably worthless"
   ]
  },
  {
   "cell_type": "markdown",
   "metadata": {},
   "source": [
    "neighborhoods.csv\n",
    "- probably worthless"
   ]
  },
  {
   "cell_type": "code",
   "execution_count": 3,
   "metadata": {},
   "outputs": [],
   "source": [
    "REdf = pd.read_csv('data/weekly_housing_market_data_most_recent.tsv',delimiter='\\t')"
   ]
  },
  {
   "cell_type": "code",
   "execution_count": 8,
   "metadata": {},
   "outputs": [],
   "source": [
    "listingsdf = pd.read_csv('data/listings.csv')"
   ]
  },
  {
   "cell_type": "code",
   "execution_count": 14,
   "metadata": {},
   "outputs": [],
   "source": [
    "import gzip\n",
    "import shutil\n",
    "with gzip.open('data/calendar.csv.gz', 'rb') as f_in:\n",
    "    with open('data/calendar.csv', 'wb') as f_out:\n",
    "        shutil.copyfileobj(f_in, f_out)"
   ]
  },
  {
   "cell_type": "code",
   "execution_count": 24,
   "metadata": {},
   "outputs": [],
   "source": [
    "import gzip\n",
    "import shutil\n",
    "with gzip.open('data/listings.csv.gz', 'rb') as f_in:\n",
    "    with open('data/listings2.csv', 'wb') as f_out:\n",
    "        shutil.copyfileobj(f_in, f_out)"
   ]
  },
  {
   "cell_type": "code",
   "execution_count": 25,
   "metadata": {},
   "outputs": [],
   "source": [
    "listingsdf2 = pd.read_csv('data/listings2.csv')"
   ]
  },
  {
   "cell_type": "code",
   "execution_count": 32,
   "metadata": {},
   "outputs": [
    {
     "data": {
      "text/plain": [
       "'https://www.airbnb.com/rooms/2265'"
      ]
     },
     "execution_count": 32,
     "metadata": {},
     "output_type": "execute_result"
    }
   ],
   "source": [
    "listingsdf2.listing_url[0]"
   ]
  },
  {
   "cell_type": "code",
   "execution_count": 16,
   "metadata": {},
   "outputs": [],
   "source": [
    "cal_df = pd.read_csv('data/calendar.csv')"
   ]
  },
  {
   "cell_type": "code",
   "execution_count": 20,
   "metadata": {},
   "outputs": [
    {
     "data": {
      "text/html": [
       "<div>\n",
       "<style scoped>\n",
       "    .dataframe tbody tr th:only-of-type {\n",
       "        vertical-align: middle;\n",
       "    }\n",
       "\n",
       "    .dataframe tbody tr th {\n",
       "        vertical-align: top;\n",
       "    }\n",
       "\n",
       "    .dataframe thead th {\n",
       "        text-align: right;\n",
       "    }\n",
       "</style>\n",
       "<table border=\"1\" class=\"dataframe\">\n",
       "  <thead>\n",
       "    <tr style=\"text-align: right;\">\n",
       "      <th></th>\n",
       "      <th>listing_id</th>\n",
       "      <th>date</th>\n",
       "      <th>available</th>\n",
       "      <th>price</th>\n",
       "      <th>adjusted_price</th>\n",
       "      <th>minimum_nights</th>\n",
       "      <th>maximum_nights</th>\n",
       "    </tr>\n",
       "  </thead>\n",
       "  <tbody>\n",
       "    <tr>\n",
       "      <th>0</th>\n",
       "      <td>2482916</td>\n",
       "      <td>2020-10-21</td>\n",
       "      <td>f</td>\n",
       "      <td>$500.00</td>\n",
       "      <td>$500.00</td>\n",
       "      <td>1.0</td>\n",
       "      <td>1125.0</td>\n",
       "    </tr>\n",
       "    <tr>\n",
       "      <th>1</th>\n",
       "      <td>2482916</td>\n",
       "      <td>2020-10-22</td>\n",
       "      <td>f</td>\n",
       "      <td>$625.00</td>\n",
       "      <td>$625.00</td>\n",
       "      <td>1.0</td>\n",
       "      <td>1125.0</td>\n",
       "    </tr>\n",
       "    <tr>\n",
       "      <th>2</th>\n",
       "      <td>2482916</td>\n",
       "      <td>2020-10-23</td>\n",
       "      <td>f</td>\n",
       "      <td>$625.00</td>\n",
       "      <td>$625.00</td>\n",
       "      <td>2.0</td>\n",
       "      <td>1125.0</td>\n",
       "    </tr>\n",
       "    <tr>\n",
       "      <th>3</th>\n",
       "      <td>2482916</td>\n",
       "      <td>2020-10-24</td>\n",
       "      <td>f</td>\n",
       "      <td>$625.00</td>\n",
       "      <td>$625.00</td>\n",
       "      <td>2.0</td>\n",
       "      <td>1125.0</td>\n",
       "    </tr>\n",
       "    <tr>\n",
       "      <th>4</th>\n",
       "      <td>2482916</td>\n",
       "      <td>2020-10-25</td>\n",
       "      <td>f</td>\n",
       "      <td>$625.00</td>\n",
       "      <td>$625.00</td>\n",
       "      <td>1.0</td>\n",
       "      <td>1125.0</td>\n",
       "    </tr>\n",
       "    <tr>\n",
       "      <th>5</th>\n",
       "      <td>2482916</td>\n",
       "      <td>2020-10-26</td>\n",
       "      <td>f</td>\n",
       "      <td>$625.00</td>\n",
       "      <td>$625.00</td>\n",
       "      <td>1.0</td>\n",
       "      <td>1125.0</td>\n",
       "    </tr>\n",
       "    <tr>\n",
       "      <th>6</th>\n",
       "      <td>2482916</td>\n",
       "      <td>2020-10-27</td>\n",
       "      <td>f</td>\n",
       "      <td>$500.00</td>\n",
       "      <td>$500.00</td>\n",
       "      <td>1.0</td>\n",
       "      <td>1125.0</td>\n",
       "    </tr>\n",
       "    <tr>\n",
       "      <th>7</th>\n",
       "      <td>2482916</td>\n",
       "      <td>2020-10-28</td>\n",
       "      <td>f</td>\n",
       "      <td>$500.00</td>\n",
       "      <td>$500.00</td>\n",
       "      <td>1.0</td>\n",
       "      <td>1125.0</td>\n",
       "    </tr>\n",
       "    <tr>\n",
       "      <th>8</th>\n",
       "      <td>2482916</td>\n",
       "      <td>2020-10-29</td>\n",
       "      <td>f</td>\n",
       "      <td>$500.00</td>\n",
       "      <td>$500.00</td>\n",
       "      <td>1.0</td>\n",
       "      <td>1125.0</td>\n",
       "    </tr>\n",
       "    <tr>\n",
       "      <th>9</th>\n",
       "      <td>2482916</td>\n",
       "      <td>2020-10-30</td>\n",
       "      <td>f</td>\n",
       "      <td>$550.00</td>\n",
       "      <td>$550.00</td>\n",
       "      <td>2.0</td>\n",
       "      <td>1125.0</td>\n",
       "    </tr>\n",
       "  </tbody>\n",
       "</table>\n",
       "</div>"
      ],
      "text/plain": [
       "   listing_id        date available    price adjusted_price  minimum_nights  \\\n",
       "0     2482916  2020-10-21         f  $500.00        $500.00             1.0   \n",
       "1     2482916  2020-10-22         f  $625.00        $625.00             1.0   \n",
       "2     2482916  2020-10-23         f  $625.00        $625.00             2.0   \n",
       "3     2482916  2020-10-24         f  $625.00        $625.00             2.0   \n",
       "4     2482916  2020-10-25         f  $625.00        $625.00             1.0   \n",
       "5     2482916  2020-10-26         f  $625.00        $625.00             1.0   \n",
       "6     2482916  2020-10-27         f  $500.00        $500.00             1.0   \n",
       "7     2482916  2020-10-28         f  $500.00        $500.00             1.0   \n",
       "8     2482916  2020-10-29         f  $500.00        $500.00             1.0   \n",
       "9     2482916  2020-10-30         f  $550.00        $550.00             2.0   \n",
       "\n",
       "   maximum_nights  \n",
       "0          1125.0  \n",
       "1          1125.0  \n",
       "2          1125.0  \n",
       "3          1125.0  \n",
       "4          1125.0  \n",
       "5          1125.0  \n",
       "6          1125.0  \n",
       "7          1125.0  \n",
       "8          1125.0  \n",
       "9          1125.0  "
      ]
     },
     "execution_count": 20,
     "metadata": {},
     "output_type": "execute_result"
    }
   ],
   "source": [
    "cal_df.head(10)"
   ]
  },
  {
   "cell_type": "code",
   "execution_count": 9,
   "metadata": {},
   "outputs": [
    {
     "data": {
      "text/html": [
       "<div>\n",
       "<style scoped>\n",
       "    .dataframe tbody tr th:only-of-type {\n",
       "        vertical-align: middle;\n",
       "    }\n",
       "\n",
       "    .dataframe tbody tr th {\n",
       "        vertical-align: top;\n",
       "    }\n",
       "\n",
       "    .dataframe thead th {\n",
       "        text-align: right;\n",
       "    }\n",
       "</style>\n",
       "<table border=\"1\" class=\"dataframe\">\n",
       "  <thead>\n",
       "    <tr style=\"text-align: right;\">\n",
       "      <th></th>\n",
       "      <th>id</th>\n",
       "      <th>name</th>\n",
       "      <th>host_id</th>\n",
       "      <th>host_name</th>\n",
       "      <th>neighbourhood_group</th>\n",
       "      <th>neighbourhood</th>\n",
       "      <th>latitude</th>\n",
       "      <th>longitude</th>\n",
       "      <th>room_type</th>\n",
       "      <th>price</th>\n",
       "      <th>minimum_nights</th>\n",
       "      <th>number_of_reviews</th>\n",
       "      <th>last_review</th>\n",
       "      <th>reviews_per_month</th>\n",
       "      <th>calculated_host_listings_count</th>\n",
       "      <th>availability_365</th>\n",
       "    </tr>\n",
       "  </thead>\n",
       "  <tbody>\n",
       "    <tr>\n",
       "      <th>0</th>\n",
       "      <td>2265</td>\n",
       "      <td>Zen-East in the Heart of Austin (monthly rental)</td>\n",
       "      <td>2466</td>\n",
       "      <td>Paddy</td>\n",
       "      <td>NaN</td>\n",
       "      <td>78702</td>\n",
       "      <td>30.27750</td>\n",
       "      <td>-97.71398</td>\n",
       "      <td>Entire home/apt</td>\n",
       "      <td>179</td>\n",
       "      <td>7</td>\n",
       "      <td>24</td>\n",
       "      <td>2019-03-16</td>\n",
       "      <td>0.17</td>\n",
       "      <td>3</td>\n",
       "      <td>129</td>\n",
       "    </tr>\n",
       "    <tr>\n",
       "      <th>1</th>\n",
       "      <td>5245</td>\n",
       "      <td>Eco friendly, Colorful, Clean, Cozy monthly share</td>\n",
       "      <td>2466</td>\n",
       "      <td>Paddy</td>\n",
       "      <td>NaN</td>\n",
       "      <td>78702</td>\n",
       "      <td>30.27577</td>\n",
       "      <td>-97.71379</td>\n",
       "      <td>Private room</td>\n",
       "      <td>114</td>\n",
       "      <td>30</td>\n",
       "      <td>9</td>\n",
       "      <td>2018-03-14</td>\n",
       "      <td>0.06</td>\n",
       "      <td>3</td>\n",
       "      <td>0</td>\n",
       "    </tr>\n",
       "    <tr>\n",
       "      <th>2</th>\n",
       "      <td>5456</td>\n",
       "      <td>Walk to 6th, Rainey St and Convention Ctr</td>\n",
       "      <td>8028</td>\n",
       "      <td>Sylvia</td>\n",
       "      <td>NaN</td>\n",
       "      <td>78702</td>\n",
       "      <td>30.26112</td>\n",
       "      <td>-97.73448</td>\n",
       "      <td>Entire home/apt</td>\n",
       "      <td>95</td>\n",
       "      <td>2</td>\n",
       "      <td>536</td>\n",
       "      <td>2020-10-11</td>\n",
       "      <td>3.79</td>\n",
       "      <td>1</td>\n",
       "      <td>360</td>\n",
       "    </tr>\n",
       "    <tr>\n",
       "      <th>3</th>\n",
       "      <td>5636</td>\n",
       "      <td>Soco, Barton Springs Private Guest Cottage</td>\n",
       "      <td>7148</td>\n",
       "      <td>Peggy</td>\n",
       "      <td>NaN</td>\n",
       "      <td>78704</td>\n",
       "      <td>30.24630</td>\n",
       "      <td>-97.76361</td>\n",
       "      <td>Entire home/apt</td>\n",
       "      <td>46</td>\n",
       "      <td>30</td>\n",
       "      <td>20</td>\n",
       "      <td>2012-05-24</td>\n",
       "      <td>0.14</td>\n",
       "      <td>2</td>\n",
       "      <td>85</td>\n",
       "    </tr>\n",
       "    <tr>\n",
       "      <th>4</th>\n",
       "      <td>5769</td>\n",
       "      <td>NW Austin Room</td>\n",
       "      <td>8186</td>\n",
       "      <td>Elizabeth</td>\n",
       "      <td>NaN</td>\n",
       "      <td>78729</td>\n",
       "      <td>30.45697</td>\n",
       "      <td>-97.78422</td>\n",
       "      <td>Private room</td>\n",
       "      <td>39</td>\n",
       "      <td>1</td>\n",
       "      <td>257</td>\n",
       "      <td>2019-11-03</td>\n",
       "      <td>2.00</td>\n",
       "      <td>1</td>\n",
       "      <td>78</td>\n",
       "    </tr>\n",
       "  </tbody>\n",
       "</table>\n",
       "</div>"
      ],
      "text/plain": [
       "     id                                               name  host_id  \\\n",
       "0  2265   Zen-East in the Heart of Austin (monthly rental)     2466   \n",
       "1  5245  Eco friendly, Colorful, Clean, Cozy monthly share     2466   \n",
       "2  5456          Walk to 6th, Rainey St and Convention Ctr     8028   \n",
       "3  5636         Soco, Barton Springs Private Guest Cottage     7148   \n",
       "4  5769                                     NW Austin Room     8186   \n",
       "\n",
       "   host_name  neighbourhood_group  neighbourhood  latitude  longitude  \\\n",
       "0      Paddy                  NaN          78702  30.27750  -97.71398   \n",
       "1      Paddy                  NaN          78702  30.27577  -97.71379   \n",
       "2     Sylvia                  NaN          78702  30.26112  -97.73448   \n",
       "3      Peggy                  NaN          78704  30.24630  -97.76361   \n",
       "4  Elizabeth                  NaN          78729  30.45697  -97.78422   \n",
       "\n",
       "         room_type  price  minimum_nights  number_of_reviews last_review  \\\n",
       "0  Entire home/apt    179               7                 24  2019-03-16   \n",
       "1     Private room    114              30                  9  2018-03-14   \n",
       "2  Entire home/apt     95               2                536  2020-10-11   \n",
       "3  Entire home/apt     46              30                 20  2012-05-24   \n",
       "4     Private room     39               1                257  2019-11-03   \n",
       "\n",
       "   reviews_per_month  calculated_host_listings_count  availability_365  \n",
       "0               0.17                               3               129  \n",
       "1               0.06                               3                 0  \n",
       "2               3.79                               1               360  \n",
       "3               0.14                               2                85  \n",
       "4               2.00                               1                78  "
      ]
     },
     "execution_count": 9,
     "metadata": {},
     "output_type": "execute_result"
    }
   ],
   "source": [
    "listingsdf.head()"
   ]
  },
  {
   "cell_type": "code",
   "execution_count": 10,
   "metadata": {},
   "outputs": [
    {
     "name": "stdout",
     "output_type": "stream",
     "text": [
      "<class 'pandas.core.frame.DataFrame'>\n",
      "RangeIndex: 10305 entries, 0 to 10304\n",
      "Data columns (total 16 columns):\n",
      " #   Column                          Non-Null Count  Dtype  \n",
      "---  ------                          --------------  -----  \n",
      " 0   id                              10305 non-null  int64  \n",
      " 1   name                            10305 non-null  object \n",
      " 2   host_id                         10305 non-null  int64  \n",
      " 3   host_name                       10302 non-null  object \n",
      " 4   neighbourhood_group             0 non-null      float64\n",
      " 5   neighbourhood                   10305 non-null  int64  \n",
      " 6   latitude                        10305 non-null  float64\n",
      " 7   longitude                       10305 non-null  float64\n",
      " 8   room_type                       10305 non-null  object \n",
      " 9   price                           10305 non-null  int64  \n",
      " 10  minimum_nights                  10305 non-null  int64  \n",
      " 11  number_of_reviews               10305 non-null  int64  \n",
      " 12  last_review                     7619 non-null   object \n",
      " 13  reviews_per_month               7619 non-null   float64\n",
      " 14  calculated_host_listings_count  10305 non-null  int64  \n",
      " 15  availability_365                10305 non-null  int64  \n",
      "dtypes: float64(4), int64(8), object(4)\n",
      "memory usage: 1.3+ MB\n"
     ]
    }
   ],
   "source": [
    "listingsdf.info()"
   ]
  },
  {
   "cell_type": "code",
   "execution_count": 6,
   "metadata": {},
   "outputs": [
    {
     "data": {
      "text/plain": [
       "region_id                                    1614\n",
       "region_type_id                                  2\n",
       "region_name                                  1614\n",
       "region_type                                     2\n",
       "period_begin                                  203\n",
       "period_end                                    203\n",
       "duration                                        3\n",
       "total_homes_sold                            12863\n",
       "total_homes_sold_yoy                       139947\n",
       "average_homes_sold                           3128\n",
       "average_homes_sold_yoy                      49543\n",
       "total_homes_sold_with_price_drops            5892\n",
       "total_homes_sold_with_price_drops_yoy       77797\n",
       "average_homes_sold_with_price_drops          1455\n",
       "average_homes_sold_with_price_drops_yoy     21699\n",
       "percent_homes_sold_with_price_drops        350564\n",
       "percent_homes_sold_with_price_drops_yoy    499058\n",
       "median_sale_price                          276073\n",
       "median_sale_price_yoy                      641646\n",
       "median_sale_ppsf                           719393\n",
       "dtype: int64"
      ]
     },
     "execution_count": 6,
     "metadata": {},
     "output_type": "execute_result"
    }
   ],
   "source": [
    "REdf.nunique().head(20)"
   ]
  },
  {
   "cell_type": "markdown",
   "metadata": {},
   "source": [
    "## Cleaning"
   ]
  },
  {
   "cell_type": "markdown",
   "metadata": {},
   "source": [
    "## EDA"
   ]
  },
  {
   "cell_type": "markdown",
   "metadata": {},
   "source": [
    "## Visualizations"
   ]
  },
  {
   "cell_type": "markdown",
   "metadata": {},
   "source": [
    "## Conclusions"
   ]
  }
 ],
 "metadata": {
  "kernelspec": {
   "display_name": "Python 3",
   "language": "python",
   "name": "python3"
  },
  "language_info": {
   "codemirror_mode": {
    "name": "ipython",
    "version": 3
   },
   "file_extension": ".py",
   "mimetype": "text/x-python",
   "name": "python",
   "nbconvert_exporter": "python",
   "pygments_lexer": "ipython3",
   "version": "3.8.6"
  }
 },
 "nbformat": 4,
 "nbformat_minor": 4
}
