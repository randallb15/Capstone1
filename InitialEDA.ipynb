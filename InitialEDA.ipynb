{
 "cells": [
  {
   "cell_type": "markdown",
   "metadata": {},
   "source": [
    "# Real Estate Investing Analysis"
   ]
  },
  {
   "cell_type": "markdown",
   "metadata": {},
   "source": [
    "To Do's at some point:\n",
    "- update Docker image with Selenium\n",
    "- find Google Chrome path location (or firefox path location) to use Selenium"
   ]
  },
  {
   "cell_type": "markdown",
   "metadata": {},
   "source": [
    "### Explore:"
   ]
  },
  {
   "cell_type": "markdown",
   "metadata": {},
   "source": [
    "- best markets for Airbnb\n",
    "    - this would be median income over median sale price or avg income over avg sale price\n",
    "- Austin specifically\n",
    "    - 3/2 better than 2/1?\n",
    "    - certain areas better than others?"
   ]
  },
  {
   "cell_type": "markdown",
   "metadata": {},
   "source": [
    "Steps:\n",
    "1. Importing\n",
    "2. Cleaning\n",
    "3. EDA\n",
    "4. Visualizations\n",
    "5. Conclusions"
   ]
  },
  {
   "cell_type": "markdown",
   "metadata": {},
   "source": [
    "----"
   ]
  },
  {
   "cell_type": "markdown",
   "metadata": {},
   "source": [
    "**TOOLS I WANT TO USE:**\n",
    "- APIs\n",
    "- Spark\n",
    "- Docker\n",
    "- Matplotlib\n",
    "- AWS\n",
    "- Frequentist and Bayesian Hypothesis Testing\n",
    "- Pandas\n",
    "- SQL\n",
    "- GitHub and different branches and merging (nbstripout)\n",
    "\n",
    "**STRETCHES:**\n",
    "- maximum likelihood estimation to find a distribution\n",
    "- Central Limit Theorem and bootstrapping to estimate means \n",
    "- Cloropleth map\n",
    "\n",
    "**WHO IS YOUR AUDIENCE?**\n",
    "COME UP WITH A PERSONA - WHAT DO THEY WANT TO KNOW AND WHY?\n",
    "WHAT'S THE POINT OF THIS?\n",
    "\n",
    "**NOTES:**\n",
    "- readme file as you go\n",
    "- interesting data that can keep you busy\n",
    "- helper functions from the start\n",
    "\n",
    "TECHNICAL SKILLS:\n",
    "-EDA\n",
    "- Visualization\n",
    "- Hypothesis Testing\n",
    "- Web Scraping/APIS\n",
    "\n",
    "PRESENTATION SKILLS:\n",
    "- Communicating technical findings\n",
    "- Creating effective presentation"
   ]
  },
  {
   "cell_type": "markdown",
   "metadata": {},
   "source": [
    "----"
   ]
  },
  {
   "cell_type": "markdown",
   "metadata": {},
   "source": [
    "## Importing"
   ]
  },
  {
   "cell_type": "code",
   "execution_count": 2,
   "metadata": {},
   "outputs": [],
   "source": [
    "%run src/imports.py"
   ]
  },
  {
   "cell_type": "markdown",
   "metadata": {},
   "source": [
    "#### About the data"
   ]
  },
  {
   "cell_type": "markdown",
   "metadata": {},
   "source": [
    "weekly_housing_market_data_most_recent.tsv \n",
    "- shows a bunch of information about the housing market\n",
    "- useful columns - median sale price, region, region_id, median pending sqft, region name, region type"
   ]
  },
  {
   "cell_type": "markdown",
   "metadata": {},
   "source": [
    "listings.csv\n",
    "- useful columns - name, neighborhood, latitude, longitude, price, availability, room type"
   ]
  },
  {
   "cell_type": "markdown",
   "metadata": {},
   "source": [
    "**listings2.csv**\n",
    "\n",
    "**- can use this to scrape guests, bedrooms, beds, baths data**\n",
    "- the only thing I would want from here is ID and listing_url"
   ]
  },
  {
   "cell_type": "markdown",
   "metadata": {},
   "source": [
    "reviews.csv\n",
    "- worthless"
   ]
  },
  {
   "cell_type": "markdown",
   "metadata": {},
   "source": [
    "calendar.csv\n",
    "- probably worthless"
   ]
  },
  {
   "cell_type": "markdown",
   "metadata": {},
   "source": [
    "neighborhoods.csv\n",
    "- probably worthless"
   ]
  },
  {
   "cell_type": "code",
   "execution_count": 13,
   "metadata": {},
   "outputs": [],
   "source": [
    "REdf = pd.read_csv('data/REcleaned.csv')"
   ]
  },
  {
   "cell_type": "code",
   "execution_count": 8,
   "metadata": {},
   "outputs": [],
   "source": [
    "listingsdf = pd.read_csv('data/listings.csv')"
   ]
  },
  {
   "cell_type": "code",
   "execution_count": 14,
   "metadata": {},
   "outputs": [],
   "source": [
    "import gzip\n",
    "import shutil\n",
    "with gzip.open('data/calendar.csv.gz', 'rb') as f_in:\n",
    "    with open('data/calendar.csv', 'wb') as f_out:\n",
    "        shutil.copyfileobj(f_in, f_out)"
   ]
  },
  {
   "cell_type": "code",
   "execution_count": 24,
   "metadata": {},
   "outputs": [],
   "source": [
    "import gzip\n",
    "import shutil\n",
    "with gzip.open('data/listings.csv.gz', 'rb') as f_in:\n",
    "    with open('data/listings2.csv', 'wb') as f_out:\n",
    "        shutil.copyfileobj(f_in, f_out)"
   ]
  },
  {
   "cell_type": "code",
   "execution_count": 25,
   "metadata": {},
   "outputs": [],
   "source": [
    "listingsdf2 = pd.read_csv('data/listings2.csv')"
   ]
  },
  {
   "cell_type": "code",
   "execution_count": 32,
   "metadata": {},
   "outputs": [
    {
     "data": {
      "text/plain": [
       "'https://www.airbnb.com/rooms/2265'"
      ]
     },
     "execution_count": 32,
     "metadata": {},
     "output_type": "execute_result"
    }
   ],
   "source": [
    "listingsdf2.listing_url[0]"
   ]
  },
  {
   "cell_type": "code",
   "execution_count": 9,
   "metadata": {},
   "outputs": [
    {
     "data": {
      "text/html": [
       "<div>\n",
       "<style scoped>\n",
       "    .dataframe tbody tr th:only-of-type {\n",
       "        vertical-align: middle;\n",
       "    }\n",
       "\n",
       "    .dataframe tbody tr th {\n",
       "        vertical-align: top;\n",
       "    }\n",
       "\n",
       "    .dataframe thead th {\n",
       "        text-align: right;\n",
       "    }\n",
       "</style>\n",
       "<table border=\"1\" class=\"dataframe\">\n",
       "  <thead>\n",
       "    <tr style=\"text-align: right;\">\n",
       "      <th></th>\n",
       "      <th>id</th>\n",
       "      <th>name</th>\n",
       "      <th>host_id</th>\n",
       "      <th>host_name</th>\n",
       "      <th>neighbourhood_group</th>\n",
       "      <th>neighbourhood</th>\n",
       "      <th>latitude</th>\n",
       "      <th>longitude</th>\n",
       "      <th>room_type</th>\n",
       "      <th>price</th>\n",
       "      <th>minimum_nights</th>\n",
       "      <th>number_of_reviews</th>\n",
       "      <th>last_review</th>\n",
       "      <th>reviews_per_month</th>\n",
       "      <th>calculated_host_listings_count</th>\n",
       "      <th>availability_365</th>\n",
       "    </tr>\n",
       "  </thead>\n",
       "  <tbody>\n",
       "    <tr>\n",
       "      <th>0</th>\n",
       "      <td>2265</td>\n",
       "      <td>Zen-East in the Heart of Austin (monthly rental)</td>\n",
       "      <td>2466</td>\n",
       "      <td>Paddy</td>\n",
       "      <td>NaN</td>\n",
       "      <td>78702</td>\n",
       "      <td>30.27750</td>\n",
       "      <td>-97.71398</td>\n",
       "      <td>Entire home/apt</td>\n",
       "      <td>179</td>\n",
       "      <td>7</td>\n",
       "      <td>24</td>\n",
       "      <td>2019-03-16</td>\n",
       "      <td>0.17</td>\n",
       "      <td>3</td>\n",
       "      <td>129</td>\n",
       "    </tr>\n",
       "    <tr>\n",
       "      <th>1</th>\n",
       "      <td>5245</td>\n",
       "      <td>Eco friendly, Colorful, Clean, Cozy monthly share</td>\n",
       "      <td>2466</td>\n",
       "      <td>Paddy</td>\n",
       "      <td>NaN</td>\n",
       "      <td>78702</td>\n",
       "      <td>30.27577</td>\n",
       "      <td>-97.71379</td>\n",
       "      <td>Private room</td>\n",
       "      <td>114</td>\n",
       "      <td>30</td>\n",
       "      <td>9</td>\n",
       "      <td>2018-03-14</td>\n",
       "      <td>0.06</td>\n",
       "      <td>3</td>\n",
       "      <td>0</td>\n",
       "    </tr>\n",
       "    <tr>\n",
       "      <th>2</th>\n",
       "      <td>5456</td>\n",
       "      <td>Walk to 6th, Rainey St and Convention Ctr</td>\n",
       "      <td>8028</td>\n",
       "      <td>Sylvia</td>\n",
       "      <td>NaN</td>\n",
       "      <td>78702</td>\n",
       "      <td>30.26112</td>\n",
       "      <td>-97.73448</td>\n",
       "      <td>Entire home/apt</td>\n",
       "      <td>95</td>\n",
       "      <td>2</td>\n",
       "      <td>536</td>\n",
       "      <td>2020-10-11</td>\n",
       "      <td>3.79</td>\n",
       "      <td>1</td>\n",
       "      <td>360</td>\n",
       "    </tr>\n",
       "    <tr>\n",
       "      <th>3</th>\n",
       "      <td>5636</td>\n",
       "      <td>Soco, Barton Springs Private Guest Cottage</td>\n",
       "      <td>7148</td>\n",
       "      <td>Peggy</td>\n",
       "      <td>NaN</td>\n",
       "      <td>78704</td>\n",
       "      <td>30.24630</td>\n",
       "      <td>-97.76361</td>\n",
       "      <td>Entire home/apt</td>\n",
       "      <td>46</td>\n",
       "      <td>30</td>\n",
       "      <td>20</td>\n",
       "      <td>2012-05-24</td>\n",
       "      <td>0.14</td>\n",
       "      <td>2</td>\n",
       "      <td>85</td>\n",
       "    </tr>\n",
       "    <tr>\n",
       "      <th>4</th>\n",
       "      <td>5769</td>\n",
       "      <td>NW Austin Room</td>\n",
       "      <td>8186</td>\n",
       "      <td>Elizabeth</td>\n",
       "      <td>NaN</td>\n",
       "      <td>78729</td>\n",
       "      <td>30.45697</td>\n",
       "      <td>-97.78422</td>\n",
       "      <td>Private room</td>\n",
       "      <td>39</td>\n",
       "      <td>1</td>\n",
       "      <td>257</td>\n",
       "      <td>2019-11-03</td>\n",
       "      <td>2.00</td>\n",
       "      <td>1</td>\n",
       "      <td>78</td>\n",
       "    </tr>\n",
       "  </tbody>\n",
       "</table>\n",
       "</div>"
      ],
      "text/plain": [
       "     id                                               name  host_id  \\\n",
       "0  2265   Zen-East in the Heart of Austin (monthly rental)     2466   \n",
       "1  5245  Eco friendly, Colorful, Clean, Cozy monthly share     2466   \n",
       "2  5456          Walk to 6th, Rainey St and Convention Ctr     8028   \n",
       "3  5636         Soco, Barton Springs Private Guest Cottage     7148   \n",
       "4  5769                                     NW Austin Room     8186   \n",
       "\n",
       "   host_name  neighbourhood_group  neighbourhood  latitude  longitude  \\\n",
       "0      Paddy                  NaN          78702  30.27750  -97.71398   \n",
       "1      Paddy                  NaN          78702  30.27577  -97.71379   \n",
       "2     Sylvia                  NaN          78702  30.26112  -97.73448   \n",
       "3      Peggy                  NaN          78704  30.24630  -97.76361   \n",
       "4  Elizabeth                  NaN          78729  30.45697  -97.78422   \n",
       "\n",
       "         room_type  price  minimum_nights  number_of_reviews last_review  \\\n",
       "0  Entire home/apt    179               7                 24  2019-03-16   \n",
       "1     Private room    114              30                  9  2018-03-14   \n",
       "2  Entire home/apt     95               2                536  2020-10-11   \n",
       "3  Entire home/apt     46              30                 20  2012-05-24   \n",
       "4     Private room     39               1                257  2019-11-03   \n",
       "\n",
       "   reviews_per_month  calculated_host_listings_count  availability_365  \n",
       "0               0.17                               3               129  \n",
       "1               0.06                               3                 0  \n",
       "2               3.79                               1               360  \n",
       "3               0.14                               2                85  \n",
       "4               2.00                               1                78  "
      ]
     },
     "execution_count": 9,
     "metadata": {},
     "output_type": "execute_result"
    }
   ],
   "source": [
    "listingsdf.head()"
   ]
  },
  {
   "cell_type": "code",
   "execution_count": 10,
   "metadata": {},
   "outputs": [
    {
     "name": "stdout",
     "output_type": "stream",
     "text": [
      "<class 'pandas.core.frame.DataFrame'>\n",
      "RangeIndex: 10305 entries, 0 to 10304\n",
      "Data columns (total 16 columns):\n",
      " #   Column                          Non-Null Count  Dtype  \n",
      "---  ------                          --------------  -----  \n",
      " 0   id                              10305 non-null  int64  \n",
      " 1   name                            10305 non-null  object \n",
      " 2   host_id                         10305 non-null  int64  \n",
      " 3   host_name                       10302 non-null  object \n",
      " 4   neighbourhood_group             0 non-null      float64\n",
      " 5   neighbourhood                   10305 non-null  int64  \n",
      " 6   latitude                        10305 non-null  float64\n",
      " 7   longitude                       10305 non-null  float64\n",
      " 8   room_type                       10305 non-null  object \n",
      " 9   price                           10305 non-null  int64  \n",
      " 10  minimum_nights                  10305 non-null  int64  \n",
      " 11  number_of_reviews               10305 non-null  int64  \n",
      " 12  last_review                     7619 non-null   object \n",
      " 13  reviews_per_month               7619 non-null   float64\n",
      " 14  calculated_host_listings_count  10305 non-null  int64  \n",
      " 15  availability_365                10305 non-null  int64  \n",
      "dtypes: float64(4), int64(8), object(4)\n",
      "memory usage: 1.3+ MB\n"
     ]
    }
   ],
   "source": [
    "listingsdf.info()"
   ]
  },
  {
   "cell_type": "code",
   "execution_count": 21,
   "metadata": {},
   "outputs": [
    {
     "data": {
      "text/plain": [
       "array(['Dayton, OH metro area', 'San Francisco, CA metro area',\n",
       "       'New Haven, CT metro area', 'Tampa, FL metro area',\n",
       "       'Sevierville, TN metro area', 'Boulder, CO metro area',\n",
       "       'Ottawa, IL metro area', 'Fernley, NV metro area',\n",
       "       'Clewiston, FL metro area', 'Seattle, WA metro area',\n",
       "       'Memphis, TN metro area', 'Philadelphia, PA metro area',\n",
       "       'Provo, UT metro area', 'Flint, MI metro area',\n",
       "       'Montgomery County, PA metro area', 'Ludington, MI metro area',\n",
       "       'Norwich, CT metro area', 'Ashtabula, OH metro area',\n",
       "       'Birmingham, AL metro area', 'Fallon, NV metro area',\n",
       "       'Gettysburg, PA metro area', 'Modesto, CA metro area',\n",
       "       'Austin, MN metro area', 'Madison, WI metro area',\n",
       "       'Augusta, ME metro area', 'Worcester, MA metro area',\n",
       "       'El Paso, TX metro area', 'Olympia, WA metro area',\n",
       "       'Lincoln, NE metro area', 'Frederick, MD metro area',\n",
       "       'Shawnee, OK metro area', 'Niles, MI metro area',\n",
       "       'Eau Claire, WI metro area', 'Whitewater, WI metro area',\n",
       "       'Norwalk, OH metro area', 'Gadsden, AL metro area',\n",
       "       'Jefferson, GA metro area', 'Sandusky, OH metro area',\n",
       "       'Tahlequah, OK metro area', 'Breckenridge, CO metro area',\n",
       "       'Albertville, AL metro area', 'Abilene, TX metro area',\n",
       "       'Chicago, IL metro area', 'Rutland, VT metro area',\n",
       "       'Fairmont, MN metro area', 'Heber, UT metro area',\n",
       "       'Red Wing, MN metro area', 'Ellensburg, WA metro area',\n",
       "       'Jamestown, NY metro area', 'Rio Grande City, TX metro area',\n",
       "       'Cincinnati, OH metro area', 'Mount Vernon, WA metro area',\n",
       "       'Madison, IN metro area', 'Vineyard Haven, MA metro area',\n",
       "       'Fergus Falls, MN metro area', 'Pearsall, TX metro area',\n",
       "       'Youngstown, OH metro area', 'Gloversville, NY metro area',\n",
       "       'Cleveland, OH metro area', 'Bennington, VT metro area',\n",
       "       'Victoria, TX metro area', 'Bridgeport, CT metro area',\n",
       "       'Thomaston, GA metro area', 'Platteville, WI metro area',\n",
       "       'Minneapolis, MN metro area', 'Calhoun, GA metro area',\n",
       "       'California, MD metro area', 'Wenatchee, WA metro area',\n",
       "       'Bakersfield, CA metro area', 'Warrensburg, MO metro area',\n",
       "       'Prineville, OR metro area', 'North Port, FL metro area',\n",
       "       'Anniston, AL metro area', 'Pottsville, PA metro area',\n",
       "       'Oak Harbor, WA metro area',\n",
       "       'Washington Court House, OH metro area', 'Miami, FL metro area',\n",
       "       'Lexington, KY metro area', 'Sikeston, MO metro area',\n",
       "       'Baton Rouge, LA metro area', 'Gainesville, GA metro area',\n",
       "       'La Grande, OR metro area', 'Sweetwater, TX metro area',\n",
       "       'Sebastian, FL metro area', 'North Wilkesboro, NC metro area',\n",
       "       'Oklahoma City, OK metro area', 'Austin, TX metro area',\n",
       "       'Pontiac, IL metro area', 'Stevens Point, WI metro area',\n",
       "       'Freeport, IL metro area', 'Holland, MI metro area',\n",
       "       'Fort Leonard Wood, MO metro area', 'Columbus, OH metro area',\n",
       "       'Big Rapids, MI metro area', 'Riverside, CA metro area',\n",
       "       'Forest City, NC metro area', 'Salt Lake City, UT metro area',\n",
       "       'Hagerstown, MD metro area', 'Klamath Falls, OR metro area',\n",
       "       'Rochester, MN metro area', 'Fort Lauderdale, FL metro area',\n",
       "       'Tacoma, WA metro area', 'Newberry, SC metro area',\n",
       "       'Shawano, WI metro area', 'Brainerd, MN metro area',\n",
       "       'Cape Girardeau, MO metro area', 'New Orleans, LA metro area',\n",
       "       'Little Rock, AR metro area', 'Cape Coral, FL metro area',\n",
       "       'Ocean City, NJ metro area', 'Sandpoint, ID metro area',\n",
       "       'Willmar, MN metro area', 'San Rafael, CA metro area',\n",
       "       'Trenton, NJ metro area', 'Vernal, UT metro area',\n",
       "       'Steamboat Springs, CO metro area', 'McMinnville, TN metro area',\n",
       "       'Huntsville, TX metro area', 'North Vernon, IN metro area',\n",
       "       'Bemidji, MN metro area', 'Concord, NH metro area',\n",
       "       'Ogden, UT metro area', 'Jacksonville, FL metro area',\n",
       "       'Talladega, AL metro area', 'Brenham, TX metro area',\n",
       "       'The Dalles, OR metro area', 'Dixon, IL metro area',\n",
       "       'Milwaukee, WI metro area', 'Bellingham, WA metro area',\n",
       "       'Hartford, CT metro area', 'Brownwood, TX metro area',\n",
       "       'Menomonie, WI metro area', 'Sterling, CO metro area',\n",
       "       'Worthington, MN metro area', 'Sturgis, MI metro area',\n",
       "       'Beatrice, NE metro area', 'Janesville, WI metro area',\n",
       "       'Kalamazoo, MI metro area', 'Winston-Salem, NC metro area',\n",
       "       'Richmond, IN metro area', 'Indiana, PA metro area',\n",
       "       'Barnstable Town, MA metro area', 'Price, UT metro area',\n",
       "       'Cedartown, GA metro area', 'Cumberland, MD metro area',\n",
       "       'Chico, CA metro area', 'Torrington, CT metro area',\n",
       "       'Rockingham County, NH metro area', 'Albert Lea, MN metro area',\n",
       "       'Muskogee, OK metro area', 'Buffalo, NY metro area',\n",
       "       'Albany, OR metro area', 'Olean, NY metro area',\n",
       "       'Moses Lake, WA metro area', 'Oshkosh, WI metro area',\n",
       "       'Napa, CA metro area', 'Nassau County, NY metro area',\n",
       "       'Kankakee, IL metro area', 'Lewiston, ME metro area',\n",
       "       'Shelbyville, TN metro area', 'Las Vegas, NV metro area',\n",
       "       'Anaheim, CA metro area', 'Racine, WI metro area',\n",
       "       'Poughkeepsie, NY metro area', 'Atlantic City, NJ metro area',\n",
       "       'Faribault, MN metro area', 'Aberdeen, WA metro area',\n",
       "       'Wausau, WI metro area', 'Deltona, FL metro area',\n",
       "       'Poplar Bluff, MO metro area', 'London, KY metro area',\n",
       "       'Albany, NY metro area', 'Punta Gorda, FL metro area',\n",
       "       'Washington, DC metro area', 'Pella, IA metro area',\n",
       "       'Syracuse, NY metro area', 'Jackson, MI metro area',\n",
       "       'Laconia, NH metro area', 'Hillsdale, MI metro area',\n",
       "       'Flagstaff, AZ metro area', 'Grand Rapids, MN metro area',\n",
       "       'Ashland, OH metro area', 'Clearlake, CA metro area',\n",
       "       'San Diego, CA metro area', 'Gainesville, TX metro area',\n",
       "       'Portland, ME metro area', \"Coeur d'Alene, ID metro area\",\n",
       "       'Lawrenceburg, TN metro area', 'St. Joseph, MO metro area',\n",
       "       'Spokane, WA metro area', 'Pittsburgh, PA metro area',\n",
       "       'Durham, NC metro area', 'Bartlesville, OK metro area',\n",
       "       'Bremerton, WA metro area', 'McAllen, TX metro area',\n",
       "       'Providence, RI metro area', 'Rockport, TX metro area',\n",
       "       'New Castle, PA metro area', 'Hilo, HI metro area',\n",
       "       'Coldwater, MI metro area', 'Summerville, GA metro area',\n",
       "       'Crestview, FL metro area', 'Palatka, FL metro area',\n",
       "       'Louisville, KY metro area', 'Virginia Beach, VA metro area',\n",
       "       'Fairbanks, AK metro area', 'York, PA metro area',\n",
       "       'Clarksville, TN metro area', 'Carson City, NV metro area',\n",
       "       'Battle Creek, MI metro area', 'Alma, MI metro area',\n",
       "       'Richmond, KY metro area', 'Reading, PA metro area',\n",
       "       'Reno, NV metro area', 'Logan, UT metro area',\n",
       "       'Burlington, VT metro area', 'Bend, OR metro area',\n",
       "       'Ottawa, KS metro area', 'Greeley, CO metro area',\n",
       "       'Portsmouth, OH metro area', 'Sacramento, CA metro area',\n",
       "       'New Ulm, MN metro area', 'Lancaster, PA metro area',\n",
       "       'Lebanon, NH metro area', 'Winona, MN metro area',\n",
       "       'Jackson, OH metro area', 'Palm Bay, FL metro area',\n",
       "       'Baraboo, WI metro area', 'Pine Bluff, AR metro area',\n",
       "       'Lewisburg, TN metro area', 'Hammond, LA metro area',\n",
       "       'Mount Airy, NC metro area', 'Anchorage, AK metro area',\n",
       "       'Tulsa, OK metro area', 'Mount Sterling, KY metro area',\n",
       "       'Monroe, MI metro area', 'Hermiston, OR metro area',\n",
       "       'Los Alamos, NM metro area', 'Show Low, AZ metro area',\n",
       "       'Denver, CO metro area', 'Greenville, SC metro area',\n",
       "       'El Campo, TX metro area', 'Raleigh, NC metro area',\n",
       "       'Henderson, NC metro area', 'Grand Rapids, MI metro area',\n",
       "       'Gardnerville Ranchos, NV metro area', 'Bonham, TX metro area',\n",
       "       'Bangor, ME metro area', 'Oxnard, CA metro area',\n",
       "       'Longview, WA metro area', 'Salinas, CA metro area',\n",
       "       'Rochester, NY metro area', 'Crawfordsville, IN metro area',\n",
       "       'Santa Cruz, CA metro area', 'Greensburg, IN metro area',\n",
       "       'Brookings, OR metro area', 'Frankfort, KY metro area',\n",
       "       'Ann Arbor, MI metro area', 'LaGrange, GA metro area',\n",
       "       'Wilmington, OH metro area', 'Sulphur Springs, TX metro area',\n",
       "       'Hot Springs, AR metro area', 'Adrian, MI metro area',\n",
       "       'Keene, NH metro area', 'Farmington, MO metro area',\n",
       "       'Okeechobee, FL metro area', 'Merced, CA metro area',\n",
       "       'Glens Falls, NY metro area', 'Decatur, AL metro area',\n",
       "       'Albemarle, NC metro area', 'Centralia, WA metro area',\n",
       "       'Owatonna, MN metro area', 'Lake County, IL metro area',\n",
       "       'Elgin, IL metro area', 'Salem, OR metro area',\n",
       "       'Santa Maria, CA metro area', 'Baltimore, MD metro area',\n",
       "       'Hood River, OR metro area', 'Shelton, WA metro area',\n",
       "       'Barre, VT metro area', 'Rockford, IL metro area',\n",
       "       'Auburn, NY metro area', 'Rome, GA metro area',\n",
       "       'Marinette, WI metro area', 'Easton, MD metro area',\n",
       "       'Roseburg, OR metro area', 'Champaign, IL metro area',\n",
       "       'Charleston, SC metro area', 'Canton, OH metro area',\n",
       "       'Fort Morgan, CO metro area', 'Maysville, KY metro area',\n",
       "       'Coos Bay, OR metro area', 'Tullahoma, TN metro area',\n",
       "       'Granbury, TX metro area', 'Winnemucca, NV metro area',\n",
       "       'Tucson, AZ metro area', 'Berlin, NH metro area',\n",
       "       'Asheville, NC metro area', 'Urban Honolulu, HI metro area',\n",
       "       'Spartanburg, SC metro area', 'Chillicothe, OH metro area',\n",
       "       'Malvern, AR metro area', 'Knoxville, TN metro area',\n",
       "       'Crossville, TN metro area', 'Marion, NC metro area',\n",
       "       'Naples, FL metro area', 'Point Pleasant, WV metro area',\n",
       "       'Lakeland, FL metro area', 'Allentown, PA metro area',\n",
       "       'Chambersburg, PA metro area', 'Hutchinson, MN metro area',\n",
       "       'Winchester, VA metro area', 'Beaver Dam, WI metro area',\n",
       "       'Corvallis, OR metro area', 'Searcy, AR metro area',\n",
       "       'Bogalusa, LA metro area', 'La Crosse, WI metro area',\n",
       "       'Vineland, NJ metro area', 'Kapaa, HI metro area',\n",
       "       'Huntsville, AL metro area', 'Wilmington, DE metro area',\n",
       "       'Newark, NJ metro area', 'Madera, CA metro area',\n",
       "       'Camden, NJ metro area', 'Des Moines, IA metro area',\n",
       "       'All Redfin Metros', 'Pahrump, NV metro area',\n",
       "       'Killeen, TX metro area', 'Fresno, CA metro area',\n",
       "       'Alexandria, MN metro area', 'Akron, OH metro area',\n",
       "       'San Luis Obispo, CA metro area', 'Santa Rosa, CA metro area',\n",
       "       'Phoenix, AZ metro area', 'Cambridge, MD metro area',\n",
       "       'Amsterdam, NY metro area', 'Fond du Lac, WI metro area',\n",
       "       'Mountain Home, ID metro area', 'Stephenville, TX metro area',\n",
       "       'Vallejo, CA metro area', 'Fort Collins, CO metro area',\n",
       "       'Myrtle Beach, SC metro area', 'Fremont, NE metro area',\n",
       "       'Port St. Lucie, FL metro area', 'Connersville, IN metro area',\n",
       "       'Marshall, MN metro area', 'Portland, OR metro area',\n",
       "       'Dover, DE metro area', 'Rolla, MO metro area',\n",
       "       'Arcadia, FL metro area', 'Oakland, CA metro area',\n",
       "       'New York, NY metro area', 'Corsicana, TX metro area',\n",
       "       'Athens, OH metro area', 'Salem, OH metro area',\n",
       "       'The Villages, FL metro area', 'Georgetown, SC metro area',\n",
       "       'Lebanon, PA metro area', 'Fort Payne, AL metro area',\n",
       "       'Sherman, TX metro area', 'Athens, TX metro area',\n",
       "       'West Palm Beach, FL metro area', 'Wooster, OH metro area',\n",
       "       'Savannah, GA metro area', 'Detroit, MI metro area',\n",
       "       'Manitowoc, WI metro area', 'Santa Fe, NM metro area',\n",
       "       'Sheboygan, WI metro area', 'New Brunswick, NJ metro area',\n",
       "       'Green Bay, WI metro area', 'St. Cloud, MN metro area',\n",
       "       'Batavia, NY metro area', 'Manchester, NH metro area',\n",
       "       'Harrisburg, PA metro area', 'Watertown, WI metro area',\n",
       "       'Mineral Wells, TX metro area', 'Saginaw, MI metro area',\n",
       "       'Omaha, NE metro area', 'Boston, MA metro area',\n",
       "       'Appleton, WI metro area', 'Eugene, OR metro area',\n",
       "       'Houston, TX metro area', 'Columbus, IN metro area',\n",
       "       'Muskegon, MI metro area', 'Stockton, CA metro area',\n",
       "       'Greensboro, NC metro area', 'Truckee, CA metro area',\n",
       "       'Richmond, VA metro area', 'Orlando, FL metro area',\n",
       "       'Nashville, TN metro area', 'Scottsboro, AL metro area',\n",
       "       'Indianapolis, IN metro area', 'Coshocton, OH metro area',\n",
       "       'Lansing, MI metro area', 'San Jose, CA metro area',\n",
       "       'Wisconsin Rapids, WI metro area', 'Kahului, HI metro area',\n",
       "       'Warren, MI metro area', 'Los Angeles, CA metro area',\n",
       "       'Kingsville, TX metro area', 'Alice, TX metro area'], dtype=object)"
      ]
     },
     "execution_count": 21,
     "metadata": {},
     "output_type": "execute_result"
    }
   ],
   "source": [
    "REdf[REdf['region_type'] == 'metro']['region_name'].unique()"
   ]
  },
  {
   "cell_type": "code",
   "execution_count": 28,
   "metadata": {},
   "outputs": [],
   "source": [
    "Nsale = REdf[REdf['region_name'] == 'Nashville, TN metro area']"
   ]
  },
  {
   "cell_type": "code",
   "execution_count": 50,
   "metadata": {},
   "outputs": [],
   "source": [
    "Nppsf = Nsale['median_sale_ppsf'].median()"
   ]
  },
  {
   "cell_type": "code",
   "execution_count": 51,
   "metadata": {},
   "outputs": [],
   "source": [
    "N_median_sale = Nsale['median_sale_price'].median()"
   ]
  },
  {
   "cell_type": "code",
   "execution_count": 22,
   "metadata": {},
   "outputs": [],
   "source": [
    "ATXsale = REdf[REdf['region_name'] == 'Austin, TX metro area']"
   ]
  },
  {
   "cell_type": "code",
   "execution_count": 59,
   "metadata": {},
   "outputs": [],
   "source": [
    "ATXppsf = ATXsale['median_sale_ppsf'].median()"
   ]
  },
  {
   "cell_type": "code",
   "execution_count": 54,
   "metadata": {},
   "outputs": [],
   "source": [
    "ATX_median_sale = ATXsale['median_sale_price'].median()"
   ]
  },
  {
   "cell_type": "code",
   "execution_count": 23,
   "metadata": {},
   "outputs": [],
   "source": [
    "Bsale = REdf[REdf['region_name'] == 'Boston, MA metro area']"
   ]
  },
  {
   "cell_type": "code",
   "execution_count": 60,
   "metadata": {},
   "outputs": [],
   "source": [
    "Bppsf = Bsale['median_sale_ppsf'].median()"
   ]
  },
  {
   "cell_type": "code",
   "execution_count": 56,
   "metadata": {},
   "outputs": [],
   "source": [
    "B_median_sale = Bsale['median_sale_price'].median()"
   ]
  },
  {
   "cell_type": "code",
   "execution_count": 15,
   "metadata": {},
   "outputs": [],
   "source": [
    "SFsale = REdf[REdf['region_name'] == 'San Francisco, CA metro area']"
   ]
  },
  {
   "cell_type": "code",
   "execution_count": 61,
   "metadata": {},
   "outputs": [],
   "source": [
    "SFppsf = SFsale['median_sale_ppsf'].median()"
   ]
  },
  {
   "cell_type": "code",
   "execution_count": 57,
   "metadata": {},
   "outputs": [],
   "source": [
    "SF_median_sale = SFsale['median_sale_price'].median()"
   ]
  },
  {
   "cell_type": "code",
   "execution_count": 62,
   "metadata": {},
   "outputs": [],
   "source": [
    "xlabels = ['Austin','Nashville','San Francisco','Boston']"
   ]
  },
  {
   "cell_type": "code",
   "execution_count": 63,
   "metadata": {},
   "outputs": [],
   "source": [
    "yppsf = [ATXppsf,Nppsf,SFppsf,Bppsf]"
   ]
  },
  {
   "cell_type": "code",
   "execution_count": 64,
   "metadata": {},
   "outputs": [],
   "source": [
    "ysale = [ATX_median_sale,N_median_sale,SF_median_sale,B_median_sale]"
   ]
  },
  {
   "cell_type": "markdown",
   "metadata": {},
   "source": [
    "## Cleaning"
   ]
  },
  {
   "cell_type": "markdown",
   "metadata": {},
   "source": [
    "## EDA"
   ]
  },
  {
   "cell_type": "code",
   "execution_count": 36,
   "metadata": {},
   "outputs": [],
   "source": [
    "Austin_df = pd.read_pickle('data/Austin/city_listings_combAustin.pkl')"
   ]
  },
  {
   "cell_type": "code",
   "execution_count": 46,
   "metadata": {},
   "outputs": [],
   "source": [
    "ATXnumber = len(Austin_df)\n",
    "ATX_median_nightly = Austin_df['price'].median()"
   ]
  },
  {
   "cell_type": "code",
   "execution_count": 37,
   "metadata": {},
   "outputs": [],
   "source": [
    "Nashville_df = pd.read_pickle('data/Nashville/city_listings_combNashville.pkl')"
   ]
  },
  {
   "cell_type": "code",
   "execution_count": 47,
   "metadata": {},
   "outputs": [],
   "source": [
    "Nnumber = len(Nashville_df)\n",
    "N_median_nightly = Nashville_df['price'].median()"
   ]
  },
  {
   "cell_type": "code",
   "execution_count": 38,
   "metadata": {},
   "outputs": [],
   "source": [
    "Boston_df = pd.read_pickle('data/Boston/city_listings_combBoston.pkl')"
   ]
  },
  {
   "cell_type": "code",
   "execution_count": 48,
   "metadata": {},
   "outputs": [],
   "source": [
    "Bnumber = len(Boston_df)\n",
    "B_median_nightly = Boston_df['price'].median()"
   ]
  },
  {
   "cell_type": "code",
   "execution_count": 39,
   "metadata": {},
   "outputs": [],
   "source": [
    "SF_df = pd.read_pickle('data/San Francisco/city_listings_combSan Francisco.pkl')"
   ]
  },
  {
   "cell_type": "code",
   "execution_count": 49,
   "metadata": {},
   "outputs": [],
   "source": [
    "SFnumber = len(SF_df)\n",
    "SF_median_nightly = SF_df['price'].median()"
   ]
  },
  {
   "cell_type": "code",
   "execution_count": 65,
   "metadata": {},
   "outputs": [],
   "source": [
    "ynumber = [ATXnumber,Nnumber,SFnumber,Bnumber]"
   ]
  },
  {
   "cell_type": "code",
   "execution_count": 66,
   "metadata": {},
   "outputs": [],
   "source": [
    "ynightly = [ATX_median_nightly,N_median_nightly,SF_median_nightly,B_median_nightly]"
   ]
  },
  {
   "cell_type": "markdown",
   "metadata": {},
   "source": [
    "Making dataframe"
   ]
  },
  {
   "cell_type": "code",
   "execution_count": 117,
   "metadata": {},
   "outputs": [],
   "source": [
    "basic_data = [yppsf,ysale,ynumber,ynightly]"
   ]
  },
  {
   "cell_type": "code",
   "execution_count": 118,
   "metadata": {},
   "outputs": [],
   "source": [
    "basic_df = pd.DataFrame(basic_data,columns=xlabels)"
   ]
  },
  {
   "cell_type": "code",
   "execution_count": 120,
   "metadata": {},
   "outputs": [],
   "source": [
    "basic_df['index'] = ['ppsf','sale_price','number_of_rentals','nightly_price']"
   ]
  },
  {
   "cell_type": "code",
   "execution_count": 123,
   "metadata": {},
   "outputs": [],
   "source": [
    "basic_df.set_index('index',inplace=True)"
   ]
  },
  {
   "cell_type": "code",
   "execution_count": 125,
   "metadata": {},
   "outputs": [],
   "source": [
    "basic_df.to_csv('data/basicinfo.csv')"
   ]
  },
  {
   "cell_type": "markdown",
   "metadata": {},
   "source": [
    "## Visualizations"
   ]
  },
  {
   "cell_type": "code",
   "execution_count": 110,
   "metadata": {},
   "outputs": [
    {
     "data": {
      "text/plain": [
       "['Solarize_Light2',\n",
       " '_classic_test_patch',\n",
       " 'bmh',\n",
       " 'classic',\n",
       " 'dark_background',\n",
       " 'fast',\n",
       " 'fivethirtyeight',\n",
       " 'ggplot',\n",
       " 'grayscale',\n",
       " 'seaborn',\n",
       " 'seaborn-bright',\n",
       " 'seaborn-colorblind',\n",
       " 'seaborn-dark',\n",
       " 'seaborn-dark-palette',\n",
       " 'seaborn-darkgrid',\n",
       " 'seaborn-deep',\n",
       " 'seaborn-muted',\n",
       " 'seaborn-notebook',\n",
       " 'seaborn-paper',\n",
       " 'seaborn-pastel',\n",
       " 'seaborn-poster',\n",
       " 'seaborn-talk',\n",
       " 'seaborn-ticks',\n",
       " 'seaborn-white',\n",
       " 'seaborn-whitegrid',\n",
       " 'tableau-colorblind10']"
      ]
     },
     "execution_count": 110,
     "metadata": {},
     "output_type": "execute_result"
    }
   ],
   "source": [
    "plt.style.available"
   ]
  },
  {
   "cell_type": "code",
   "execution_count": 113,
   "metadata": {},
   "outputs": [],
   "source": [
    "plt.style.use('ggplot')"
   ]
  },
  {
   "cell_type": "code",
   "execution_count": 116,
   "metadata": {},
   "outputs": [
    {
     "name": "stderr",
     "output_type": "stream",
     "text": [
      "<ipython-input-116-52b52580c0aa>:4: UserWarning: FixedFormatter should only be used together with FixedLocator\n",
      "  ax[0].set_xticklabels(xlabels,rotation=90)\n",
      "<ipython-input-116-52b52580c0aa>:7: UserWarning: FixedFormatter should only be used together with FixedLocator\n",
      "  ax[1].set_xticklabels(xlabels,rotation=90)\n",
      "<ipython-input-116-52b52580c0aa>:10: UserWarning: FixedFormatter should only be used together with FixedLocator\n",
      "  ax[2].set_xticklabels(xlabels,rotation=90)\n",
      "<ipython-input-116-52b52580c0aa>:13: UserWarning: FixedFormatter should only be used together with FixedLocator\n",
      "  ax[3].set_xticklabels(xlabels,rotation=90)\n"
     ]
    },
    {
     "data": {
      "image/png": "[encoded data removed]",
      "text/plain": [
       "<Figure size 1152x288 with 4 Axes>"
      ]
     },
     "metadata": {},
     "output_type": "display_data"
    }
   ],
   "source": [
    "fig,ax = plt.subplots(1,4,figsize=(16,4))\n",
    "\n",
    "ax[0].bar(xlabels,yppsf)\n",
    "ax[0].set_xticklabels(xlabels,rotation=90)\n",
    "ax[0].set_title('Median Sale Price Per Sq Ft')\n",
    "ax[1].bar(xlabels,ysale)\n",
    "ax[1].set_xticklabels(xlabels,rotation=90)\n",
    "ax[1].set_title('Median Sale Price')\n",
    "ax[2].bar(xlabels,ynumber)\n",
    "ax[2].set_xticklabels(xlabels,rotation=90)\n",
    "ax[2].set_title('Number of Airbnbs')\n",
    "ax[3].bar(xlabels,ynightly)\n",
    "ax[3].set_xticklabels(xlabels,rotation=90)\n",
    "ax[3].set_title('Median Nightly Airbnb Price');\n",
    "plt.tight_layout()\n",
    "plt.savefig('img/cities.png')"
   ]
  },
  {
   "cell_type": "code",
   "execution_count": null,
   "metadata": {},
   "outputs": [],
   "source": []
  },
  {
   "cell_type": "markdown",
   "metadata": {},
   "source": [
    "## Conclusions"
   ]
  }
 ],
 "metadata": {
  "kernelspec": {
   "display_name": "Python 3",
   "language": "python",
   "name": "python3"
  },
  "language_info": {
   "codemirror_mode": {
    "name": "ipython",
    "version": 3
   },
   "file_extension": ".py",
   "mimetype": "text/x-python",
   "name": "python",
   "nbconvert_exporter": "python",
   "pygments_lexer": "ipython3",
   "version": "3.8.6"
  }
 },
 "nbformat": 4,
 "nbformat_minor": 4
}
